{
  "nbformat": 4,
  "nbformat_minor": 0,
  "metadata": {
    "colab": {
      "provenance": []
    },
    "kernelspec": {
      "name": "python3",
      "display_name": "Python 3"
    },
    "language_info": {
      "name": "python"
    },
    "accelerator": "GPU",
    "gpuClass": "standard"
  },
  "cells": [
    {
      "cell_type": "markdown",
      "source": [
        "# Import related Modules"
      ],
      "metadata": {
        "id": "xAqhw4cbVjQW"
      }
    },
    {
      "cell_type": "code",
      "execution_count": 85,
      "metadata": {
        "id": "NieIj6Oi3Gim"
      },
      "outputs": [],
      "source": [
        "# To plot pretty figures\n",
        "import datetime as dt\n",
        "import matplotlib as mpl\n",
        "\n",
        "# General libraries needed\n",
        "import time # use to measure how long PCA takes in comparison to LLE\n",
        "import numpy as np\n",
        "import pandas as pd\n",
        "import matplotlib.pyplot as plt\n",
        "from matplotlib import cm\n",
        "\n",
        "# TensorFlow requirements\n",
        "import tensorflow as tf\n",
        "from tensorflow import keras\n",
        "\n",
        "# Sklearn requirements\n",
        "from sklearn.linear_model import Perceptron\n",
        "\n",
        "# Special graphing modules used\n",
        "from pandas.plotting import scatter_matrix\n",
        "\n",
        "# scikit learn modules\n",
        "from sklearn.model_selection import train_test_split\n",
        "from sklearn.model_selection import cross_val_score\n",
        "from sklearn.model_selection import cross_val_predict\n",
        "from sklearn.linear_model import SGDClassifier, LogisticRegression\n",
        "from sklearn.linear_model import SGDRegressor, LinearRegression, Ridge\n",
        "from sklearn.metrics import accuracy_score, confusion_matrix, f1_score\n",
        "from sklearn.metrics import precision_score, recall_score, precision_recall_curve, roc_curve, roc_auc_score\n",
        "from sklearn.metrics import mean_squared_error, mean_absolute_error\n",
        "# Feature Reduction and Visulization\n",
        "from sklearn.manifold import TSNE\n",
        "from sklearn.decomposition import PCA\n",
        "\n",
        "# Binary classifier only?\n",
        "from sklearn.tree import DecisionTreeClassifier\n",
        "\n",
        "#Random forest\n",
        "from sklearn.ensemble import RandomForestClassifier\n",
        "\n",
        "from sklearn.impute import SimpleImputer\n",
        "from sklearn.preprocessing import OneHotEncoder, StandardScaler, OrdinalEncoder, PowerTransformer, MinMaxScaler\n",
        "from sklearn.compose import ColumnTransformer\n",
        "from sklearn.pipeline import Pipeline\n",
        "from sklearn.model_selection import GridSearchCV, RandomizedSearchCV"
      ]
    },
    {
      "cell_type": "markdown",
      "source": [
        "Function Definition"
      ],
      "metadata": {
        "id": "6XEYYzFuVjYq"
      }
    },
    {
      "cell_type": "code",
      "source": [
        "#function that shows a learning curve for any model that has predict or fit methods\n",
        "from sklearn.model_selection import learning_curve\n",
        "\n",
        "def plot_learning_curve(estimator,X,y,ylim=None,cv=None,n_jobs=None,train_sizes=np.linspace(0.1, 1.0, 20),scoring = 'neg_root_mean_squared_error'):\n",
        "    \n",
        "    _, axes = plt.subplots(1, 1, figsize=(10, 5))    \n",
        "    axes.set_title('Learning Curve')\n",
        "    if ylim is not None:\n",
        "        axes.set_ylim(*ylim)\n",
        "    axes.set_xlabel(\"Training examples\")\n",
        "    axes.set_ylabel(scoring)\n",
        "\n",
        "    train_sizes, train_scores, test_scores= learning_curve(estimator,X,y,cv=cv,n_jobs=n_jobs,train_sizes=train_sizes,scoring = scoring)\n",
        "    train_scores_mean = np.mean(train_scores, axis=1)\n",
        "    train_scores_std = np.std(train_scores, axis=1)\n",
        "    test_scores_mean = np.mean(test_scores, axis=1)\n",
        "    test_scores_std = np.std(test_scores, axis=1)\n",
        "\n",
        "    # Plot learning curve\n",
        "    axes.grid()\n",
        "    axes.fill_between(train_sizes,train_scores_mean - train_scores_std,train_scores_mean + train_scores_std,alpha=0.1,color=\"r\")\n",
        "    axes.fill_between(train_sizes,test_scores_mean - test_scores_std,test_scores_mean + test_scores_std,alpha=0.1,color=\"g\")\n",
        "    axes.plot(train_sizes, train_scores_mean, \"o-\", color=\"r\", label=\"Training score\")\n",
        "    axes.plot(train_sizes, test_scores_mean, \"o-\", color=\"g\", label=\"Cross-validation score\")\n",
        "    axes.legend(loc=\"best\")\n",
        "    plt.show()\n",
        "    \n",
        "    return\n",
        "\n",
        "#code to prevent warnings that can occur as a result of this function\n",
        "from warnings import simplefilter\n",
        "from sklearn.exceptions import ConvergenceWarning\n",
        "simplefilter(\"ignore\", category=ConvergenceWarning)"
      ],
      "metadata": {
        "id": "b3oc2eJzVrsS"
      },
      "execution_count": 62,
      "outputs": []
    },
    {
      "cell_type": "code",
      "source": [
        "#function provided that plots the learning curve for neural networks\n",
        "def nn_plot_learning_curve( history ):\n",
        "    pd.DataFrame(history.history).plot(figsize=(8, 5))\n",
        "    plt.grid(True)\n",
        "    ymin, ymax = [], []\n",
        "    for x in history.history.keys():\n",
        "        ymax.append( max(history.history[x]))\n",
        "        ymin.append( min(history.history[x]))\n",
        "    plt.gca().set_ylim(min(ymin)*.95, max(ymax)*1.05)\n",
        "    plt.xlabel(\"EPOCHS\")\n",
        "    plt.show()"
      ],
      "metadata": {
        "id": "Cg5qQgtNlMRQ"
      },
      "execution_count": 63,
      "outputs": []
    },
    {
      "cell_type": "markdown",
      "source": [
        "Source Data"
      ],
      "metadata": {
        "id": "yswVRWSLVjok"
      }
    },
    {
      "cell_type": "code",
      "source": [
        "from google.colab import files\n",
        "uploaded = files.upload()"
      ],
      "metadata": {
        "colab": {
          "base_uri": "https://localhost:8080/",
          "height": 73
        },
        "id": "PwMra_8FVvIg",
        "outputId": "225442b6-3f9d-408d-8585-b64b2a986312"
      },
      "execution_count": 64,
      "outputs": [
        {
          "output_type": "display_data",
          "data": {
            "text/plain": [
              "<IPython.core.display.HTML object>"
            ],
            "text/html": [
              "\n",
              "     <input type=\"file\" id=\"files-2b257377-291f-498b-bfe7-75b8042f6486\" name=\"files[]\" multiple disabled\n",
              "        style=\"border:none\" />\n",
              "     <output id=\"result-2b257377-291f-498b-bfe7-75b8042f6486\">\n",
              "      Upload widget is only available when the cell has been executed in the\n",
              "      current browser session. Please rerun this cell to enable.\n",
              "      </output>\n",
              "      <script>// Copyright 2017 Google LLC\n",
              "//\n",
              "// Licensed under the Apache License, Version 2.0 (the \"License\");\n",
              "// you may not use this file except in compliance with the License.\n",
              "// You may obtain a copy of the License at\n",
              "//\n",
              "//      http://www.apache.org/licenses/LICENSE-2.0\n",
              "//\n",
              "// Unless required by applicable law or agreed to in writing, software\n",
              "// distributed under the License is distributed on an \"AS IS\" BASIS,\n",
              "// WITHOUT WARRANTIES OR CONDITIONS OF ANY KIND, either express or implied.\n",
              "// See the License for the specific language governing permissions and\n",
              "// limitations under the License.\n",
              "\n",
              "/**\n",
              " * @fileoverview Helpers for google.colab Python module.\n",
              " */\n",
              "(function(scope) {\n",
              "function span(text, styleAttributes = {}) {\n",
              "  const element = document.createElement('span');\n",
              "  element.textContent = text;\n",
              "  for (const key of Object.keys(styleAttributes)) {\n",
              "    element.style[key] = styleAttributes[key];\n",
              "  }\n",
              "  return element;\n",
              "}\n",
              "\n",
              "// Max number of bytes which will be uploaded at a time.\n",
              "const MAX_PAYLOAD_SIZE = 100 * 1024;\n",
              "\n",
              "function _uploadFiles(inputId, outputId) {\n",
              "  const steps = uploadFilesStep(inputId, outputId);\n",
              "  const outputElement = document.getElementById(outputId);\n",
              "  // Cache steps on the outputElement to make it available for the next call\n",
              "  // to uploadFilesContinue from Python.\n",
              "  outputElement.steps = steps;\n",
              "\n",
              "  return _uploadFilesContinue(outputId);\n",
              "}\n",
              "\n",
              "// This is roughly an async generator (not supported in the browser yet),\n",
              "// where there are multiple asynchronous steps and the Python side is going\n",
              "// to poll for completion of each step.\n",
              "// This uses a Promise to block the python side on completion of each step,\n",
              "// then passes the result of the previous step as the input to the next step.\n",
              "function _uploadFilesContinue(outputId) {\n",
              "  const outputElement = document.getElementById(outputId);\n",
              "  const steps = outputElement.steps;\n",
              "\n",
              "  const next = steps.next(outputElement.lastPromiseValue);\n",
              "  return Promise.resolve(next.value.promise).then((value) => {\n",
              "    // Cache the last promise value to make it available to the next\n",
              "    // step of the generator.\n",
              "    outputElement.lastPromiseValue = value;\n",
              "    return next.value.response;\n",
              "  });\n",
              "}\n",
              "\n",
              "/**\n",
              " * Generator function which is called between each async step of the upload\n",
              " * process.\n",
              " * @param {string} inputId Element ID of the input file picker element.\n",
              " * @param {string} outputId Element ID of the output display.\n",
              " * @return {!Iterable<!Object>} Iterable of next steps.\n",
              " */\n",
              "function* uploadFilesStep(inputId, outputId) {\n",
              "  const inputElement = document.getElementById(inputId);\n",
              "  inputElement.disabled = false;\n",
              "\n",
              "  const outputElement = document.getElementById(outputId);\n",
              "  outputElement.innerHTML = '';\n",
              "\n",
              "  const pickedPromise = new Promise((resolve) => {\n",
              "    inputElement.addEventListener('change', (e) => {\n",
              "      resolve(e.target.files);\n",
              "    });\n",
              "  });\n",
              "\n",
              "  const cancel = document.createElement('button');\n",
              "  inputElement.parentElement.appendChild(cancel);\n",
              "  cancel.textContent = 'Cancel upload';\n",
              "  const cancelPromise = new Promise((resolve) => {\n",
              "    cancel.onclick = () => {\n",
              "      resolve(null);\n",
              "    };\n",
              "  });\n",
              "\n",
              "  // Wait for the user to pick the files.\n",
              "  const files = yield {\n",
              "    promise: Promise.race([pickedPromise, cancelPromise]),\n",
              "    response: {\n",
              "      action: 'starting',\n",
              "    }\n",
              "  };\n",
              "\n",
              "  cancel.remove();\n",
              "\n",
              "  // Disable the input element since further picks are not allowed.\n",
              "  inputElement.disabled = true;\n",
              "\n",
              "  if (!files) {\n",
              "    return {\n",
              "      response: {\n",
              "        action: 'complete',\n",
              "      }\n",
              "    };\n",
              "  }\n",
              "\n",
              "  for (const file of files) {\n",
              "    const li = document.createElement('li');\n",
              "    li.append(span(file.name, {fontWeight: 'bold'}));\n",
              "    li.append(span(\n",
              "        `(${file.type || 'n/a'}) - ${file.size} bytes, ` +\n",
              "        `last modified: ${\n",
              "            file.lastModifiedDate ? file.lastModifiedDate.toLocaleDateString() :\n",
              "                                    'n/a'} - `));\n",
              "    const percent = span('0% done');\n",
              "    li.appendChild(percent);\n",
              "\n",
              "    outputElement.appendChild(li);\n",
              "\n",
              "    const fileDataPromise = new Promise((resolve) => {\n",
              "      const reader = new FileReader();\n",
              "      reader.onload = (e) => {\n",
              "        resolve(e.target.result);\n",
              "      };\n",
              "      reader.readAsArrayBuffer(file);\n",
              "    });\n",
              "    // Wait for the data to be ready.\n",
              "    let fileData = yield {\n",
              "      promise: fileDataPromise,\n",
              "      response: {\n",
              "        action: 'continue',\n",
              "      }\n",
              "    };\n",
              "\n",
              "    // Use a chunked sending to avoid message size limits. See b/62115660.\n",
              "    let position = 0;\n",
              "    do {\n",
              "      const length = Math.min(fileData.byteLength - position, MAX_PAYLOAD_SIZE);\n",
              "      const chunk = new Uint8Array(fileData, position, length);\n",
              "      position += length;\n",
              "\n",
              "      const base64 = btoa(String.fromCharCode.apply(null, chunk));\n",
              "      yield {\n",
              "        response: {\n",
              "          action: 'append',\n",
              "          file: file.name,\n",
              "          data: base64,\n",
              "        },\n",
              "      };\n",
              "\n",
              "      let percentDone = fileData.byteLength === 0 ?\n",
              "          100 :\n",
              "          Math.round((position / fileData.byteLength) * 100);\n",
              "      percent.textContent = `${percentDone}% done`;\n",
              "\n",
              "    } while (position < fileData.byteLength);\n",
              "  }\n",
              "\n",
              "  // All done.\n",
              "  yield {\n",
              "    response: {\n",
              "      action: 'complete',\n",
              "    }\n",
              "  };\n",
              "}\n",
              "\n",
              "scope.google = scope.google || {};\n",
              "scope.google.colab = scope.google.colab || {};\n",
              "scope.google.colab._files = {\n",
              "  _uploadFiles,\n",
              "  _uploadFilesContinue,\n",
              "};\n",
              "})(self);\n",
              "</script> "
            ]
          },
          "metadata": {}
        },
        {
          "output_type": "stream",
          "name": "stdout",
          "text": [
            "Saving heart_2020_cleaned.csv to heart_2020_cleaned (1).csv\n"
          ]
        }
      ]
    },
    {
      "cell_type": "code",
      "source": [
        "df = pd.read_csv('heart_2020_cleaned.csv')\n",
        "df.head()"
      ],
      "metadata": {
        "colab": {
          "base_uri": "https://localhost:8080/",
          "height": 206
        },
        "id": "vmb9JyfXXBTi",
        "outputId": "1edd8195-5432-4b8a-bef7-ba3a50162db6"
      },
      "execution_count": 65,
      "outputs": [
        {
          "output_type": "execute_result",
          "data": {
            "text/plain": [
              "  HeartDisease    BMI Smoking AlcoholDrinking Stroke  PhysicalHealth  \\\n",
              "0           No  16.60     Yes              No     No               3   \n",
              "1           No  20.34      No              No    Yes               0   \n",
              "2           No  26.58     Yes              No     No              20   \n",
              "3           No  24.21      No              No     No               0   \n",
              "4           No  23.71      No              No     No              28   \n",
              "\n",
              "   MentalHealth DiffWalking     Sex  AgeCategory   Race Diabetic  \\\n",
              "0            30          No  Female        55-59  White      Yes   \n",
              "1             0          No  Female  80 or older  White       No   \n",
              "2            30          No    Male        65-69  White      Yes   \n",
              "3             0          No  Female        75-79  White       No   \n",
              "4             0         Yes  Female        40-44  White       No   \n",
              "\n",
              "  PhysicalActivity  GenHealth  SleepTime Asthma KidneyDisease SkinCancer  \n",
              "0              Yes  Very good          5    Yes            No        Yes  \n",
              "1              Yes  Very good          7     No            No         No  \n",
              "2              Yes       Fair          8    Yes            No         No  \n",
              "3               No       Good          6     No            No        Yes  \n",
              "4              Yes  Very good          8     No            No         No  "
            ],
            "text/html": [
              "\n",
              "  <div id=\"df-15b957cc-8f57-4203-8b2e-9550876f42ff\">\n",
              "    <div class=\"colab-df-container\">\n",
              "      <div>\n",
              "<style scoped>\n",
              "    .dataframe tbody tr th:only-of-type {\n",
              "        vertical-align: middle;\n",
              "    }\n",
              "\n",
              "    .dataframe tbody tr th {\n",
              "        vertical-align: top;\n",
              "    }\n",
              "\n",
              "    .dataframe thead th {\n",
              "        text-align: right;\n",
              "    }\n",
              "</style>\n",
              "<table border=\"1\" class=\"dataframe\">\n",
              "  <thead>\n",
              "    <tr style=\"text-align: right;\">\n",
              "      <th></th>\n",
              "      <th>HeartDisease</th>\n",
              "      <th>BMI</th>\n",
              "      <th>Smoking</th>\n",
              "      <th>AlcoholDrinking</th>\n",
              "      <th>Stroke</th>\n",
              "      <th>PhysicalHealth</th>\n",
              "      <th>MentalHealth</th>\n",
              "      <th>DiffWalking</th>\n",
              "      <th>Sex</th>\n",
              "      <th>AgeCategory</th>\n",
              "      <th>Race</th>\n",
              "      <th>Diabetic</th>\n",
              "      <th>PhysicalActivity</th>\n",
              "      <th>GenHealth</th>\n",
              "      <th>SleepTime</th>\n",
              "      <th>Asthma</th>\n",
              "      <th>KidneyDisease</th>\n",
              "      <th>SkinCancer</th>\n",
              "    </tr>\n",
              "  </thead>\n",
              "  <tbody>\n",
              "    <tr>\n",
              "      <th>0</th>\n",
              "      <td>No</td>\n",
              "      <td>16.60</td>\n",
              "      <td>Yes</td>\n",
              "      <td>No</td>\n",
              "      <td>No</td>\n",
              "      <td>3</td>\n",
              "      <td>30</td>\n",
              "      <td>No</td>\n",
              "      <td>Female</td>\n",
              "      <td>55-59</td>\n",
              "      <td>White</td>\n",
              "      <td>Yes</td>\n",
              "      <td>Yes</td>\n",
              "      <td>Very good</td>\n",
              "      <td>5</td>\n",
              "      <td>Yes</td>\n",
              "      <td>No</td>\n",
              "      <td>Yes</td>\n",
              "    </tr>\n",
              "    <tr>\n",
              "      <th>1</th>\n",
              "      <td>No</td>\n",
              "      <td>20.34</td>\n",
              "      <td>No</td>\n",
              "      <td>No</td>\n",
              "      <td>Yes</td>\n",
              "      <td>0</td>\n",
              "      <td>0</td>\n",
              "      <td>No</td>\n",
              "      <td>Female</td>\n",
              "      <td>80 or older</td>\n",
              "      <td>White</td>\n",
              "      <td>No</td>\n",
              "      <td>Yes</td>\n",
              "      <td>Very good</td>\n",
              "      <td>7</td>\n",
              "      <td>No</td>\n",
              "      <td>No</td>\n",
              "      <td>No</td>\n",
              "    </tr>\n",
              "    <tr>\n",
              "      <th>2</th>\n",
              "      <td>No</td>\n",
              "      <td>26.58</td>\n",
              "      <td>Yes</td>\n",
              "      <td>No</td>\n",
              "      <td>No</td>\n",
              "      <td>20</td>\n",
              "      <td>30</td>\n",
              "      <td>No</td>\n",
              "      <td>Male</td>\n",
              "      <td>65-69</td>\n",
              "      <td>White</td>\n",
              "      <td>Yes</td>\n",
              "      <td>Yes</td>\n",
              "      <td>Fair</td>\n",
              "      <td>8</td>\n",
              "      <td>Yes</td>\n",
              "      <td>No</td>\n",
              "      <td>No</td>\n",
              "    </tr>\n",
              "    <tr>\n",
              "      <th>3</th>\n",
              "      <td>No</td>\n",
              "      <td>24.21</td>\n",
              "      <td>No</td>\n",
              "      <td>No</td>\n",
              "      <td>No</td>\n",
              "      <td>0</td>\n",
              "      <td>0</td>\n",
              "      <td>No</td>\n",
              "      <td>Female</td>\n",
              "      <td>75-79</td>\n",
              "      <td>White</td>\n",
              "      <td>No</td>\n",
              "      <td>No</td>\n",
              "      <td>Good</td>\n",
              "      <td>6</td>\n",
              "      <td>No</td>\n",
              "      <td>No</td>\n",
              "      <td>Yes</td>\n",
              "    </tr>\n",
              "    <tr>\n",
              "      <th>4</th>\n",
              "      <td>No</td>\n",
              "      <td>23.71</td>\n",
              "      <td>No</td>\n",
              "      <td>No</td>\n",
              "      <td>No</td>\n",
              "      <td>28</td>\n",
              "      <td>0</td>\n",
              "      <td>Yes</td>\n",
              "      <td>Female</td>\n",
              "      <td>40-44</td>\n",
              "      <td>White</td>\n",
              "      <td>No</td>\n",
              "      <td>Yes</td>\n",
              "      <td>Very good</td>\n",
              "      <td>8</td>\n",
              "      <td>No</td>\n",
              "      <td>No</td>\n",
              "      <td>No</td>\n",
              "    </tr>\n",
              "  </tbody>\n",
              "</table>\n",
              "</div>\n",
              "      <button class=\"colab-df-convert\" onclick=\"convertToInteractive('df-15b957cc-8f57-4203-8b2e-9550876f42ff')\"\n",
              "              title=\"Convert this dataframe to an interactive table.\"\n",
              "              style=\"display:none;\">\n",
              "        \n",
              "  <svg xmlns=\"http://www.w3.org/2000/svg\" height=\"24px\"viewBox=\"0 0 24 24\"\n",
              "       width=\"24px\">\n",
              "    <path d=\"M0 0h24v24H0V0z\" fill=\"none\"/>\n",
              "    <path d=\"M18.56 5.44l.94 2.06.94-2.06 2.06-.94-2.06-.94-.94-2.06-.94 2.06-2.06.94zm-11 1L8.5 8.5l.94-2.06 2.06-.94-2.06-.94L8.5 2.5l-.94 2.06-2.06.94zm10 10l.94 2.06.94-2.06 2.06-.94-2.06-.94-.94-2.06-.94 2.06-2.06.94z\"/><path d=\"M17.41 7.96l-1.37-1.37c-.4-.4-.92-.59-1.43-.59-.52 0-1.04.2-1.43.59L10.3 9.45l-7.72 7.72c-.78.78-.78 2.05 0 2.83L4 21.41c.39.39.9.59 1.41.59.51 0 1.02-.2 1.41-.59l7.78-7.78 2.81-2.81c.8-.78.8-2.07 0-2.86zM5.41 20L4 18.59l7.72-7.72 1.47 1.35L5.41 20z\"/>\n",
              "  </svg>\n",
              "      </button>\n",
              "      \n",
              "  <style>\n",
              "    .colab-df-container {\n",
              "      display:flex;\n",
              "      flex-wrap:wrap;\n",
              "      gap: 12px;\n",
              "    }\n",
              "\n",
              "    .colab-df-convert {\n",
              "      background-color: #E8F0FE;\n",
              "      border: none;\n",
              "      border-radius: 50%;\n",
              "      cursor: pointer;\n",
              "      display: none;\n",
              "      fill: #1967D2;\n",
              "      height: 32px;\n",
              "      padding: 0 0 0 0;\n",
              "      width: 32px;\n",
              "    }\n",
              "\n",
              "    .colab-df-convert:hover {\n",
              "      background-color: #E2EBFA;\n",
              "      box-shadow: 0px 1px 2px rgba(60, 64, 67, 0.3), 0px 1px 3px 1px rgba(60, 64, 67, 0.15);\n",
              "      fill: #174EA6;\n",
              "    }\n",
              "\n",
              "    [theme=dark] .colab-df-convert {\n",
              "      background-color: #3B4455;\n",
              "      fill: #D2E3FC;\n",
              "    }\n",
              "\n",
              "    [theme=dark] .colab-df-convert:hover {\n",
              "      background-color: #434B5C;\n",
              "      box-shadow: 0px 1px 3px 1px rgba(0, 0, 0, 0.15);\n",
              "      filter: drop-shadow(0px 1px 2px rgba(0, 0, 0, 0.3));\n",
              "      fill: #FFFFFF;\n",
              "    }\n",
              "  </style>\n",
              "\n",
              "      <script>\n",
              "        const buttonEl =\n",
              "          document.querySelector('#df-15b957cc-8f57-4203-8b2e-9550876f42ff button.colab-df-convert');\n",
              "        buttonEl.style.display =\n",
              "          google.colab.kernel.accessAllowed ? 'block' : 'none';\n",
              "\n",
              "        async function convertToInteractive(key) {\n",
              "          const element = document.querySelector('#df-15b957cc-8f57-4203-8b2e-9550876f42ff');\n",
              "          const dataTable =\n",
              "            await google.colab.kernel.invokeFunction('convertToInteractive',\n",
              "                                                     [key], {});\n",
              "          if (!dataTable) return;\n",
              "\n",
              "          const docLinkHtml = 'Like what you see? Visit the ' +\n",
              "            '<a target=\"_blank\" href=https://colab.research.google.com/notebooks/data_table.ipynb>data table notebook</a>'\n",
              "            + ' to learn more about interactive tables.';\n",
              "          element.innerHTML = '';\n",
              "          dataTable['output_type'] = 'display_data';\n",
              "          await google.colab.output.renderOutput(dataTable, element);\n",
              "          const docLink = document.createElement('div');\n",
              "          docLink.innerHTML = docLinkHtml;\n",
              "          element.appendChild(docLink);\n",
              "        }\n",
              "      </script>\n",
              "    </div>\n",
              "  </div>\n",
              "  "
            ]
          },
          "metadata": {},
          "execution_count": 65
        }
      ]
    },
    {
      "cell_type": "markdown",
      "source": [
        "Prepare the dataset"
      ],
      "metadata": {
        "id": "WnoUgkJKW6N2"
      }
    },
    {
      "cell_type": "code",
      "source": [
        "df['HeartDisease'] = df['HeartDisease'].apply(lambda x:1 if x == \"Yes\" else 0);\n",
        "df['Smoking'] = df['Smoking'].apply(lambda x:1 if x == \"Yes\" else 0);\n",
        "df['AlcoholDrinking'] = df['AlcoholDrinking'].apply(lambda x:1 if x == \"Yes\" else 0);\n",
        "df['Stroke'] = df['Stroke'].apply(lambda x:1 if x == \"Yes\" else 0);\n",
        "df['DiffWalking'] = df['DiffWalking'].apply(lambda x:1 if x == \"Yes\" else 0);\n",
        "df['Sex'] = df['Sex'].apply(lambda x:1 if x == \"Male\" else 0);\n",
        "df['Diabetic'] = df['Diabetic'].apply(lambda x:1 if x == \"Yes\" else 0);\n",
        "def helper(x):\n",
        "  if x == 'Yes':\n",
        "    return 2\n",
        "  if x == 'No':\n",
        "    return 1\n",
        "  return 0\n",
        "\n",
        "df['PhysicalActivity'] = df['PhysicalActivity'].apply(helper); # 加一个 no, borderline diabetes\n",
        "df['Asthma'] = df['Asthma'].apply(lambda x:1 if x == \"Yes\" else 0);\n",
        "df['KidneyDisease'] = df['KidneyDisease'].apply(lambda x:1 if x == \"Yes\" else 0);\n",
        "df['SkinCancer'] = df['SkinCancer'].apply(lambda x:1 if x == \"Yes\" else 0);"
      ],
      "metadata": {
        "id": "Wf_TK0yJXNj7"
      },
      "execution_count": 66,
      "outputs": []
    },
    {
      "cell_type": "markdown",
      "source": [
        "Updated version of column encoding"
      ],
      "metadata": {
        "id": "AWi76mgfI9Nu"
      }
    },
    {
      "cell_type": "code",
      "source": [
        "from typing import Dict\n",
        "\n",
        "def encoding(col: pd.DataFrame) -> Dict[object, int]:\n",
        "  values = sorted(list(set(col.values)))\n",
        "  return {values[i]: i for i in range(len(values))}\n",
        "\n",
        "for col in df.columns:\n",
        "  if df[col].dtypes == object and col not in [\"Race\", \"AgeCategory\", \"GenHealth\"]:\n",
        "    map = encoding(df[col])\n",
        "    df[col] = df[col].apply(lambda x: map[x])\n",
        "\n",
        "df.head(n=10)"
      ],
      "metadata": {
        "id": "xZ3Ddc7PI4Td",
        "colab": {
          "base_uri": "https://localhost:8080/",
          "height": 363
        },
        "outputId": "2c369503-c618-47b6-d0e5-8a5255d89392"
      },
      "execution_count": 67,
      "outputs": [
        {
          "output_type": "execute_result",
          "data": {
            "text/plain": [
              "   HeartDisease    BMI  Smoking  AlcoholDrinking  Stroke  PhysicalHealth  \\\n",
              "0             0  16.60        1                0       0               3   \n",
              "1             0  20.34        0                0       1               0   \n",
              "2             0  26.58        1                0       0              20   \n",
              "3             0  24.21        0                0       0               0   \n",
              "4             0  23.71        0                0       0              28   \n",
              "5             1  28.87        1                0       0               6   \n",
              "6             0  21.63        0                0       0              15   \n",
              "7             0  31.64        1                0       0               5   \n",
              "8             0  26.45        0                0       0               0   \n",
              "9             0  40.69        0                0       0               0   \n",
              "\n",
              "   MentalHealth  DiffWalking  Sex  AgeCategory   Race  Diabetic  \\\n",
              "0            30            0    0        55-59  White         1   \n",
              "1             0            0    0  80 or older  White         0   \n",
              "2            30            0    1        65-69  White         1   \n",
              "3             0            0    0        75-79  White         0   \n",
              "4             0            1    0        40-44  White         0   \n",
              "5             0            1    0        75-79  Black         0   \n",
              "6             0            0    0        70-74  White         0   \n",
              "7             0            1    0  80 or older  White         1   \n",
              "8             0            0    0  80 or older  White         0   \n",
              "9             0            1    1        65-69  White         0   \n",
              "\n",
              "   PhysicalActivity  GenHealth  SleepTime  Asthma  KidneyDisease  SkinCancer  \n",
              "0                 2  Very good          5       1              0           1  \n",
              "1                 2  Very good          7       0              0           0  \n",
              "2                 2       Fair          8       1              0           0  \n",
              "3                 1       Good          6       0              0           1  \n",
              "4                 2  Very good          8       0              0           0  \n",
              "5                 1       Fair         12       0              0           0  \n",
              "6                 2       Fair          4       1              0           1  \n",
              "7                 1       Good          9       1              0           0  \n",
              "8                 1       Fair          5       0              1           0  \n",
              "9                 2       Good         10       0              0           0  "
            ],
            "text/html": [
              "\n",
              "  <div id=\"df-e43d17d8-559f-42c0-8076-68cc38088754\">\n",
              "    <div class=\"colab-df-container\">\n",
              "      <div>\n",
              "<style scoped>\n",
              "    .dataframe tbody tr th:only-of-type {\n",
              "        vertical-align: middle;\n",
              "    }\n",
              "\n",
              "    .dataframe tbody tr th {\n",
              "        vertical-align: top;\n",
              "    }\n",
              "\n",
              "    .dataframe thead th {\n",
              "        text-align: right;\n",
              "    }\n",
              "</style>\n",
              "<table border=\"1\" class=\"dataframe\">\n",
              "  <thead>\n",
              "    <tr style=\"text-align: right;\">\n",
              "      <th></th>\n",
              "      <th>HeartDisease</th>\n",
              "      <th>BMI</th>\n",
              "      <th>Smoking</th>\n",
              "      <th>AlcoholDrinking</th>\n",
              "      <th>Stroke</th>\n",
              "      <th>PhysicalHealth</th>\n",
              "      <th>MentalHealth</th>\n",
              "      <th>DiffWalking</th>\n",
              "      <th>Sex</th>\n",
              "      <th>AgeCategory</th>\n",
              "      <th>Race</th>\n",
              "      <th>Diabetic</th>\n",
              "      <th>PhysicalActivity</th>\n",
              "      <th>GenHealth</th>\n",
              "      <th>SleepTime</th>\n",
              "      <th>Asthma</th>\n",
              "      <th>KidneyDisease</th>\n",
              "      <th>SkinCancer</th>\n",
              "    </tr>\n",
              "  </thead>\n",
              "  <tbody>\n",
              "    <tr>\n",
              "      <th>0</th>\n",
              "      <td>0</td>\n",
              "      <td>16.60</td>\n",
              "      <td>1</td>\n",
              "      <td>0</td>\n",
              "      <td>0</td>\n",
              "      <td>3</td>\n",
              "      <td>30</td>\n",
              "      <td>0</td>\n",
              "      <td>0</td>\n",
              "      <td>55-59</td>\n",
              "      <td>White</td>\n",
              "      <td>1</td>\n",
              "      <td>2</td>\n",
              "      <td>Very good</td>\n",
              "      <td>5</td>\n",
              "      <td>1</td>\n",
              "      <td>0</td>\n",
              "      <td>1</td>\n",
              "    </tr>\n",
              "    <tr>\n",
              "      <th>1</th>\n",
              "      <td>0</td>\n",
              "      <td>20.34</td>\n",
              "      <td>0</td>\n",
              "      <td>0</td>\n",
              "      <td>1</td>\n",
              "      <td>0</td>\n",
              "      <td>0</td>\n",
              "      <td>0</td>\n",
              "      <td>0</td>\n",
              "      <td>80 or older</td>\n",
              "      <td>White</td>\n",
              "      <td>0</td>\n",
              "      <td>2</td>\n",
              "      <td>Very good</td>\n",
              "      <td>7</td>\n",
              "      <td>0</td>\n",
              "      <td>0</td>\n",
              "      <td>0</td>\n",
              "    </tr>\n",
              "    <tr>\n",
              "      <th>2</th>\n",
              "      <td>0</td>\n",
              "      <td>26.58</td>\n",
              "      <td>1</td>\n",
              "      <td>0</td>\n",
              "      <td>0</td>\n",
              "      <td>20</td>\n",
              "      <td>30</td>\n",
              "      <td>0</td>\n",
              "      <td>1</td>\n",
              "      <td>65-69</td>\n",
              "      <td>White</td>\n",
              "      <td>1</td>\n",
              "      <td>2</td>\n",
              "      <td>Fair</td>\n",
              "      <td>8</td>\n",
              "      <td>1</td>\n",
              "      <td>0</td>\n",
              "      <td>0</td>\n",
              "    </tr>\n",
              "    <tr>\n",
              "      <th>3</th>\n",
              "      <td>0</td>\n",
              "      <td>24.21</td>\n",
              "      <td>0</td>\n",
              "      <td>0</td>\n",
              "      <td>0</td>\n",
              "      <td>0</td>\n",
              "      <td>0</td>\n",
              "      <td>0</td>\n",
              "      <td>0</td>\n",
              "      <td>75-79</td>\n",
              "      <td>White</td>\n",
              "      <td>0</td>\n",
              "      <td>1</td>\n",
              "      <td>Good</td>\n",
              "      <td>6</td>\n",
              "      <td>0</td>\n",
              "      <td>0</td>\n",
              "      <td>1</td>\n",
              "    </tr>\n",
              "    <tr>\n",
              "      <th>4</th>\n",
              "      <td>0</td>\n",
              "      <td>23.71</td>\n",
              "      <td>0</td>\n",
              "      <td>0</td>\n",
              "      <td>0</td>\n",
              "      <td>28</td>\n",
              "      <td>0</td>\n",
              "      <td>1</td>\n",
              "      <td>0</td>\n",
              "      <td>40-44</td>\n",
              "      <td>White</td>\n",
              "      <td>0</td>\n",
              "      <td>2</td>\n",
              "      <td>Very good</td>\n",
              "      <td>8</td>\n",
              "      <td>0</td>\n",
              "      <td>0</td>\n",
              "      <td>0</td>\n",
              "    </tr>\n",
              "    <tr>\n",
              "      <th>5</th>\n",
              "      <td>1</td>\n",
              "      <td>28.87</td>\n",
              "      <td>1</td>\n",
              "      <td>0</td>\n",
              "      <td>0</td>\n",
              "      <td>6</td>\n",
              "      <td>0</td>\n",
              "      <td>1</td>\n",
              "      <td>0</td>\n",
              "      <td>75-79</td>\n",
              "      <td>Black</td>\n",
              "      <td>0</td>\n",
              "      <td>1</td>\n",
              "      <td>Fair</td>\n",
              "      <td>12</td>\n",
              "      <td>0</td>\n",
              "      <td>0</td>\n",
              "      <td>0</td>\n",
              "    </tr>\n",
              "    <tr>\n",
              "      <th>6</th>\n",
              "      <td>0</td>\n",
              "      <td>21.63</td>\n",
              "      <td>0</td>\n",
              "      <td>0</td>\n",
              "      <td>0</td>\n",
              "      <td>15</td>\n",
              "      <td>0</td>\n",
              "      <td>0</td>\n",
              "      <td>0</td>\n",
              "      <td>70-74</td>\n",
              "      <td>White</td>\n",
              "      <td>0</td>\n",
              "      <td>2</td>\n",
              "      <td>Fair</td>\n",
              "      <td>4</td>\n",
              "      <td>1</td>\n",
              "      <td>0</td>\n",
              "      <td>1</td>\n",
              "    </tr>\n",
              "    <tr>\n",
              "      <th>7</th>\n",
              "      <td>0</td>\n",
              "      <td>31.64</td>\n",
              "      <td>1</td>\n",
              "      <td>0</td>\n",
              "      <td>0</td>\n",
              "      <td>5</td>\n",
              "      <td>0</td>\n",
              "      <td>1</td>\n",
              "      <td>0</td>\n",
              "      <td>80 or older</td>\n",
              "      <td>White</td>\n",
              "      <td>1</td>\n",
              "      <td>1</td>\n",
              "      <td>Good</td>\n",
              "      <td>9</td>\n",
              "      <td>1</td>\n",
              "      <td>0</td>\n",
              "      <td>0</td>\n",
              "    </tr>\n",
              "    <tr>\n",
              "      <th>8</th>\n",
              "      <td>0</td>\n",
              "      <td>26.45</td>\n",
              "      <td>0</td>\n",
              "      <td>0</td>\n",
              "      <td>0</td>\n",
              "      <td>0</td>\n",
              "      <td>0</td>\n",
              "      <td>0</td>\n",
              "      <td>0</td>\n",
              "      <td>80 or older</td>\n",
              "      <td>White</td>\n",
              "      <td>0</td>\n",
              "      <td>1</td>\n",
              "      <td>Fair</td>\n",
              "      <td>5</td>\n",
              "      <td>0</td>\n",
              "      <td>1</td>\n",
              "      <td>0</td>\n",
              "    </tr>\n",
              "    <tr>\n",
              "      <th>9</th>\n",
              "      <td>0</td>\n",
              "      <td>40.69</td>\n",
              "      <td>0</td>\n",
              "      <td>0</td>\n",
              "      <td>0</td>\n",
              "      <td>0</td>\n",
              "      <td>0</td>\n",
              "      <td>1</td>\n",
              "      <td>1</td>\n",
              "      <td>65-69</td>\n",
              "      <td>White</td>\n",
              "      <td>0</td>\n",
              "      <td>2</td>\n",
              "      <td>Good</td>\n",
              "      <td>10</td>\n",
              "      <td>0</td>\n",
              "      <td>0</td>\n",
              "      <td>0</td>\n",
              "    </tr>\n",
              "  </tbody>\n",
              "</table>\n",
              "</div>\n",
              "      <button class=\"colab-df-convert\" onclick=\"convertToInteractive('df-e43d17d8-559f-42c0-8076-68cc38088754')\"\n",
              "              title=\"Convert this dataframe to an interactive table.\"\n",
              "              style=\"display:none;\">\n",
              "        \n",
              "  <svg xmlns=\"http://www.w3.org/2000/svg\" height=\"24px\"viewBox=\"0 0 24 24\"\n",
              "       width=\"24px\">\n",
              "    <path d=\"M0 0h24v24H0V0z\" fill=\"none\"/>\n",
              "    <path d=\"M18.56 5.44l.94 2.06.94-2.06 2.06-.94-2.06-.94-.94-2.06-.94 2.06-2.06.94zm-11 1L8.5 8.5l.94-2.06 2.06-.94-2.06-.94L8.5 2.5l-.94 2.06-2.06.94zm10 10l.94 2.06.94-2.06 2.06-.94-2.06-.94-.94-2.06-.94 2.06-2.06.94z\"/><path d=\"M17.41 7.96l-1.37-1.37c-.4-.4-.92-.59-1.43-.59-.52 0-1.04.2-1.43.59L10.3 9.45l-7.72 7.72c-.78.78-.78 2.05 0 2.83L4 21.41c.39.39.9.59 1.41.59.51 0 1.02-.2 1.41-.59l7.78-7.78 2.81-2.81c.8-.78.8-2.07 0-2.86zM5.41 20L4 18.59l7.72-7.72 1.47 1.35L5.41 20z\"/>\n",
              "  </svg>\n",
              "      </button>\n",
              "      \n",
              "  <style>\n",
              "    .colab-df-container {\n",
              "      display:flex;\n",
              "      flex-wrap:wrap;\n",
              "      gap: 12px;\n",
              "    }\n",
              "\n",
              "    .colab-df-convert {\n",
              "      background-color: #E8F0FE;\n",
              "      border: none;\n",
              "      border-radius: 50%;\n",
              "      cursor: pointer;\n",
              "      display: none;\n",
              "      fill: #1967D2;\n",
              "      height: 32px;\n",
              "      padding: 0 0 0 0;\n",
              "      width: 32px;\n",
              "    }\n",
              "\n",
              "    .colab-df-convert:hover {\n",
              "      background-color: #E2EBFA;\n",
              "      box-shadow: 0px 1px 2px rgba(60, 64, 67, 0.3), 0px 1px 3px 1px rgba(60, 64, 67, 0.15);\n",
              "      fill: #174EA6;\n",
              "    }\n",
              "\n",
              "    [theme=dark] .colab-df-convert {\n",
              "      background-color: #3B4455;\n",
              "      fill: #D2E3FC;\n",
              "    }\n",
              "\n",
              "    [theme=dark] .colab-df-convert:hover {\n",
              "      background-color: #434B5C;\n",
              "      box-shadow: 0px 1px 3px 1px rgba(0, 0, 0, 0.15);\n",
              "      filter: drop-shadow(0px 1px 2px rgba(0, 0, 0, 0.3));\n",
              "      fill: #FFFFFF;\n",
              "    }\n",
              "  </style>\n",
              "\n",
              "      <script>\n",
              "        const buttonEl =\n",
              "          document.querySelector('#df-e43d17d8-559f-42c0-8076-68cc38088754 button.colab-df-convert');\n",
              "        buttonEl.style.display =\n",
              "          google.colab.kernel.accessAllowed ? 'block' : 'none';\n",
              "\n",
              "        async function convertToInteractive(key) {\n",
              "          const element = document.querySelector('#df-e43d17d8-559f-42c0-8076-68cc38088754');\n",
              "          const dataTable =\n",
              "            await google.colab.kernel.invokeFunction('convertToInteractive',\n",
              "                                                     [key], {});\n",
              "          if (!dataTable) return;\n",
              "\n",
              "          const docLinkHtml = 'Like what you see? Visit the ' +\n",
              "            '<a target=\"_blank\" href=https://colab.research.google.com/notebooks/data_table.ipynb>data table notebook</a>'\n",
              "            + ' to learn more about interactive tables.';\n",
              "          element.innerHTML = '';\n",
              "          dataTable['output_type'] = 'display_data';\n",
              "          await google.colab.output.renderOutput(dataTable, element);\n",
              "          const docLink = document.createElement('div');\n",
              "          docLink.innerHTML = docLinkHtml;\n",
              "          element.appendChild(docLink);\n",
              "        }\n",
              "      </script>\n",
              "    </div>\n",
              "  </div>\n",
              "  "
            ]
          },
          "metadata": {},
          "execution_count": 67
        }
      ]
    },
    {
      "cell_type": "code",
      "source": [
        "df.describe()"
      ],
      "metadata": {
        "colab": {
          "base_uri": "https://localhost:8080/",
          "height": 300
        },
        "id": "83-cn0d7XgX6",
        "outputId": "a2836c09-0c3c-4b76-acd7-2f082cd69dc5"
      },
      "execution_count": 68,
      "outputs": [
        {
          "output_type": "execute_result",
          "data": {
            "text/plain": [
              "        HeartDisease            BMI        Smoking  AlcoholDrinking  \\\n",
              "count  319795.000000  319795.000000  319795.000000    319795.000000   \n",
              "mean        0.085595      28.325399       0.412477         0.068097   \n",
              "std         0.279766       6.356100       0.492281         0.251912   \n",
              "min         0.000000      12.020000       0.000000         0.000000   \n",
              "25%         0.000000      24.030000       0.000000         0.000000   \n",
              "50%         0.000000      27.340000       0.000000         0.000000   \n",
              "75%         0.000000      31.420000       1.000000         0.000000   \n",
              "max         1.000000      94.850000       1.000000         1.000000   \n",
              "\n",
              "              Stroke  PhysicalHealth   MentalHealth    DiffWalking  \\\n",
              "count  319795.000000    319795.00000  319795.000000  319795.000000   \n",
              "mean        0.037740         3.37171       3.898366       0.138870   \n",
              "std         0.190567         7.95085       7.955235       0.345812   \n",
              "min         0.000000         0.00000       0.000000       0.000000   \n",
              "25%         0.000000         0.00000       0.000000       0.000000   \n",
              "50%         0.000000         0.00000       0.000000       0.000000   \n",
              "75%         0.000000         2.00000       3.000000       0.000000   \n",
              "max         1.000000        30.00000      30.000000       1.000000   \n",
              "\n",
              "                 Sex       Diabetic  PhysicalActivity      SleepTime  \\\n",
              "count  319795.000000  319795.000000     319795.000000  319795.000000   \n",
              "mean        0.475273       0.127588          1.775362       7.097075   \n",
              "std         0.499389       0.333631          0.417344       1.436007   \n",
              "min         0.000000       0.000000          1.000000       1.000000   \n",
              "25%         0.000000       0.000000          2.000000       6.000000   \n",
              "50%         0.000000       0.000000          2.000000       7.000000   \n",
              "75%         1.000000       0.000000          2.000000       8.000000   \n",
              "max         1.000000       1.000000          2.000000      24.000000   \n",
              "\n",
              "              Asthma  KidneyDisease     SkinCancer  \n",
              "count  319795.000000  319795.000000  319795.000000  \n",
              "mean        0.134061       0.036833       0.093244  \n",
              "std         0.340718       0.188352       0.290775  \n",
              "min         0.000000       0.000000       0.000000  \n",
              "25%         0.000000       0.000000       0.000000  \n",
              "50%         0.000000       0.000000       0.000000  \n",
              "75%         0.000000       0.000000       0.000000  \n",
              "max         1.000000       1.000000       1.000000  "
            ],
            "text/html": [
              "\n",
              "  <div id=\"df-51ea5769-d3a4-4f97-946f-fb9654d6c961\">\n",
              "    <div class=\"colab-df-container\">\n",
              "      <div>\n",
              "<style scoped>\n",
              "    .dataframe tbody tr th:only-of-type {\n",
              "        vertical-align: middle;\n",
              "    }\n",
              "\n",
              "    .dataframe tbody tr th {\n",
              "        vertical-align: top;\n",
              "    }\n",
              "\n",
              "    .dataframe thead th {\n",
              "        text-align: right;\n",
              "    }\n",
              "</style>\n",
              "<table border=\"1\" class=\"dataframe\">\n",
              "  <thead>\n",
              "    <tr style=\"text-align: right;\">\n",
              "      <th></th>\n",
              "      <th>HeartDisease</th>\n",
              "      <th>BMI</th>\n",
              "      <th>Smoking</th>\n",
              "      <th>AlcoholDrinking</th>\n",
              "      <th>Stroke</th>\n",
              "      <th>PhysicalHealth</th>\n",
              "      <th>MentalHealth</th>\n",
              "      <th>DiffWalking</th>\n",
              "      <th>Sex</th>\n",
              "      <th>Diabetic</th>\n",
              "      <th>PhysicalActivity</th>\n",
              "      <th>SleepTime</th>\n",
              "      <th>Asthma</th>\n",
              "      <th>KidneyDisease</th>\n",
              "      <th>SkinCancer</th>\n",
              "    </tr>\n",
              "  </thead>\n",
              "  <tbody>\n",
              "    <tr>\n",
              "      <th>count</th>\n",
              "      <td>319795.000000</td>\n",
              "      <td>319795.000000</td>\n",
              "      <td>319795.000000</td>\n",
              "      <td>319795.000000</td>\n",
              "      <td>319795.000000</td>\n",
              "      <td>319795.00000</td>\n",
              "      <td>319795.000000</td>\n",
              "      <td>319795.000000</td>\n",
              "      <td>319795.000000</td>\n",
              "      <td>319795.000000</td>\n",
              "      <td>319795.000000</td>\n",
              "      <td>319795.000000</td>\n",
              "      <td>319795.000000</td>\n",
              "      <td>319795.000000</td>\n",
              "      <td>319795.000000</td>\n",
              "    </tr>\n",
              "    <tr>\n",
              "      <th>mean</th>\n",
              "      <td>0.085595</td>\n",
              "      <td>28.325399</td>\n",
              "      <td>0.412477</td>\n",
              "      <td>0.068097</td>\n",
              "      <td>0.037740</td>\n",
              "      <td>3.37171</td>\n",
              "      <td>3.898366</td>\n",
              "      <td>0.138870</td>\n",
              "      <td>0.475273</td>\n",
              "      <td>0.127588</td>\n",
              "      <td>1.775362</td>\n",
              "      <td>7.097075</td>\n",
              "      <td>0.134061</td>\n",
              "      <td>0.036833</td>\n",
              "      <td>0.093244</td>\n",
              "    </tr>\n",
              "    <tr>\n",
              "      <th>std</th>\n",
              "      <td>0.279766</td>\n",
              "      <td>6.356100</td>\n",
              "      <td>0.492281</td>\n",
              "      <td>0.251912</td>\n",
              "      <td>0.190567</td>\n",
              "      <td>7.95085</td>\n",
              "      <td>7.955235</td>\n",
              "      <td>0.345812</td>\n",
              "      <td>0.499389</td>\n",
              "      <td>0.333631</td>\n",
              "      <td>0.417344</td>\n",
              "      <td>1.436007</td>\n",
              "      <td>0.340718</td>\n",
              "      <td>0.188352</td>\n",
              "      <td>0.290775</td>\n",
              "    </tr>\n",
              "    <tr>\n",
              "      <th>min</th>\n",
              "      <td>0.000000</td>\n",
              "      <td>12.020000</td>\n",
              "      <td>0.000000</td>\n",
              "      <td>0.000000</td>\n",
              "      <td>0.000000</td>\n",
              "      <td>0.00000</td>\n",
              "      <td>0.000000</td>\n",
              "      <td>0.000000</td>\n",
              "      <td>0.000000</td>\n",
              "      <td>0.000000</td>\n",
              "      <td>1.000000</td>\n",
              "      <td>1.000000</td>\n",
              "      <td>0.000000</td>\n",
              "      <td>0.000000</td>\n",
              "      <td>0.000000</td>\n",
              "    </tr>\n",
              "    <tr>\n",
              "      <th>25%</th>\n",
              "      <td>0.000000</td>\n",
              "      <td>24.030000</td>\n",
              "      <td>0.000000</td>\n",
              "      <td>0.000000</td>\n",
              "      <td>0.000000</td>\n",
              "      <td>0.00000</td>\n",
              "      <td>0.000000</td>\n",
              "      <td>0.000000</td>\n",
              "      <td>0.000000</td>\n",
              "      <td>0.000000</td>\n",
              "      <td>2.000000</td>\n",
              "      <td>6.000000</td>\n",
              "      <td>0.000000</td>\n",
              "      <td>0.000000</td>\n",
              "      <td>0.000000</td>\n",
              "    </tr>\n",
              "    <tr>\n",
              "      <th>50%</th>\n",
              "      <td>0.000000</td>\n",
              "      <td>27.340000</td>\n",
              "      <td>0.000000</td>\n",
              "      <td>0.000000</td>\n",
              "      <td>0.000000</td>\n",
              "      <td>0.00000</td>\n",
              "      <td>0.000000</td>\n",
              "      <td>0.000000</td>\n",
              "      <td>0.000000</td>\n",
              "      <td>0.000000</td>\n",
              "      <td>2.000000</td>\n",
              "      <td>7.000000</td>\n",
              "      <td>0.000000</td>\n",
              "      <td>0.000000</td>\n",
              "      <td>0.000000</td>\n",
              "    </tr>\n",
              "    <tr>\n",
              "      <th>75%</th>\n",
              "      <td>0.000000</td>\n",
              "      <td>31.420000</td>\n",
              "      <td>1.000000</td>\n",
              "      <td>0.000000</td>\n",
              "      <td>0.000000</td>\n",
              "      <td>2.00000</td>\n",
              "      <td>3.000000</td>\n",
              "      <td>0.000000</td>\n",
              "      <td>1.000000</td>\n",
              "      <td>0.000000</td>\n",
              "      <td>2.000000</td>\n",
              "      <td>8.000000</td>\n",
              "      <td>0.000000</td>\n",
              "      <td>0.000000</td>\n",
              "      <td>0.000000</td>\n",
              "    </tr>\n",
              "    <tr>\n",
              "      <th>max</th>\n",
              "      <td>1.000000</td>\n",
              "      <td>94.850000</td>\n",
              "      <td>1.000000</td>\n",
              "      <td>1.000000</td>\n",
              "      <td>1.000000</td>\n",
              "      <td>30.00000</td>\n",
              "      <td>30.000000</td>\n",
              "      <td>1.000000</td>\n",
              "      <td>1.000000</td>\n",
              "      <td>1.000000</td>\n",
              "      <td>2.000000</td>\n",
              "      <td>24.000000</td>\n",
              "      <td>1.000000</td>\n",
              "      <td>1.000000</td>\n",
              "      <td>1.000000</td>\n",
              "    </tr>\n",
              "  </tbody>\n",
              "</table>\n",
              "</div>\n",
              "      <button class=\"colab-df-convert\" onclick=\"convertToInteractive('df-51ea5769-d3a4-4f97-946f-fb9654d6c961')\"\n",
              "              title=\"Convert this dataframe to an interactive table.\"\n",
              "              style=\"display:none;\">\n",
              "        \n",
              "  <svg xmlns=\"http://www.w3.org/2000/svg\" height=\"24px\"viewBox=\"0 0 24 24\"\n",
              "       width=\"24px\">\n",
              "    <path d=\"M0 0h24v24H0V0z\" fill=\"none\"/>\n",
              "    <path d=\"M18.56 5.44l.94 2.06.94-2.06 2.06-.94-2.06-.94-.94-2.06-.94 2.06-2.06.94zm-11 1L8.5 8.5l.94-2.06 2.06-.94-2.06-.94L8.5 2.5l-.94 2.06-2.06.94zm10 10l.94 2.06.94-2.06 2.06-.94-2.06-.94-.94-2.06-.94 2.06-2.06.94z\"/><path d=\"M17.41 7.96l-1.37-1.37c-.4-.4-.92-.59-1.43-.59-.52 0-1.04.2-1.43.59L10.3 9.45l-7.72 7.72c-.78.78-.78 2.05 0 2.83L4 21.41c.39.39.9.59 1.41.59.51 0 1.02-.2 1.41-.59l7.78-7.78 2.81-2.81c.8-.78.8-2.07 0-2.86zM5.41 20L4 18.59l7.72-7.72 1.47 1.35L5.41 20z\"/>\n",
              "  </svg>\n",
              "      </button>\n",
              "      \n",
              "  <style>\n",
              "    .colab-df-container {\n",
              "      display:flex;\n",
              "      flex-wrap:wrap;\n",
              "      gap: 12px;\n",
              "    }\n",
              "\n",
              "    .colab-df-convert {\n",
              "      background-color: #E8F0FE;\n",
              "      border: none;\n",
              "      border-radius: 50%;\n",
              "      cursor: pointer;\n",
              "      display: none;\n",
              "      fill: #1967D2;\n",
              "      height: 32px;\n",
              "      padding: 0 0 0 0;\n",
              "      width: 32px;\n",
              "    }\n",
              "\n",
              "    .colab-df-convert:hover {\n",
              "      background-color: #E2EBFA;\n",
              "      box-shadow: 0px 1px 2px rgba(60, 64, 67, 0.3), 0px 1px 3px 1px rgba(60, 64, 67, 0.15);\n",
              "      fill: #174EA6;\n",
              "    }\n",
              "\n",
              "    [theme=dark] .colab-df-convert {\n",
              "      background-color: #3B4455;\n",
              "      fill: #D2E3FC;\n",
              "    }\n",
              "\n",
              "    [theme=dark] .colab-df-convert:hover {\n",
              "      background-color: #434B5C;\n",
              "      box-shadow: 0px 1px 3px 1px rgba(0, 0, 0, 0.15);\n",
              "      filter: drop-shadow(0px 1px 2px rgba(0, 0, 0, 0.3));\n",
              "      fill: #FFFFFF;\n",
              "    }\n",
              "  </style>\n",
              "\n",
              "      <script>\n",
              "        const buttonEl =\n",
              "          document.querySelector('#df-51ea5769-d3a4-4f97-946f-fb9654d6c961 button.colab-df-convert');\n",
              "        buttonEl.style.display =\n",
              "          google.colab.kernel.accessAllowed ? 'block' : 'none';\n",
              "\n",
              "        async function convertToInteractive(key) {\n",
              "          const element = document.querySelector('#df-51ea5769-d3a4-4f97-946f-fb9654d6c961');\n",
              "          const dataTable =\n",
              "            await google.colab.kernel.invokeFunction('convertToInteractive',\n",
              "                                                     [key], {});\n",
              "          if (!dataTable) return;\n",
              "\n",
              "          const docLinkHtml = 'Like what you see? Visit the ' +\n",
              "            '<a target=\"_blank\" href=https://colab.research.google.com/notebooks/data_table.ipynb>data table notebook</a>'\n",
              "            + ' to learn more about interactive tables.';\n",
              "          element.innerHTML = '';\n",
              "          dataTable['output_type'] = 'display_data';\n",
              "          await google.colab.output.renderOutput(dataTable, element);\n",
              "          const docLink = document.createElement('div');\n",
              "          docLink.innerHTML = docLinkHtml;\n",
              "          element.appendChild(docLink);\n",
              "        }\n",
              "      </script>\n",
              "    </div>\n",
              "  </div>\n",
              "  "
            ]
          },
          "metadata": {},
          "execution_count": 68
        }
      ]
    },
    {
      "cell_type": "code",
      "source": [
        "df.head()"
      ],
      "metadata": {
        "colab": {
          "base_uri": "https://localhost:8080/",
          "height": 206
        },
        "id": "ZErI0nhKYIzC",
        "outputId": "c89615a3-8eee-4172-aa84-80755bf35119"
      },
      "execution_count": 69,
      "outputs": [
        {
          "output_type": "execute_result",
          "data": {
            "text/plain": [
              "   HeartDisease    BMI  Smoking  AlcoholDrinking  Stroke  PhysicalHealth  \\\n",
              "0             0  16.60        1                0       0               3   \n",
              "1             0  20.34        0                0       1               0   \n",
              "2             0  26.58        1                0       0              20   \n",
              "3             0  24.21        0                0       0               0   \n",
              "4             0  23.71        0                0       0              28   \n",
              "\n",
              "   MentalHealth  DiffWalking  Sex  AgeCategory   Race  Diabetic  \\\n",
              "0            30            0    0        55-59  White         1   \n",
              "1             0            0    0  80 or older  White         0   \n",
              "2            30            0    1        65-69  White         1   \n",
              "3             0            0    0        75-79  White         0   \n",
              "4             0            1    0        40-44  White         0   \n",
              "\n",
              "   PhysicalActivity  GenHealth  SleepTime  Asthma  KidneyDisease  SkinCancer  \n",
              "0                 2  Very good          5       1              0           1  \n",
              "1                 2  Very good          7       0              0           0  \n",
              "2                 2       Fair          8       1              0           0  \n",
              "3                 1       Good          6       0              0           1  \n",
              "4                 2  Very good          8       0              0           0  "
            ],
            "text/html": [
              "\n",
              "  <div id=\"df-eb7a6e21-7000-4ccc-9977-fead6b7e25bd\">\n",
              "    <div class=\"colab-df-container\">\n",
              "      <div>\n",
              "<style scoped>\n",
              "    .dataframe tbody tr th:only-of-type {\n",
              "        vertical-align: middle;\n",
              "    }\n",
              "\n",
              "    .dataframe tbody tr th {\n",
              "        vertical-align: top;\n",
              "    }\n",
              "\n",
              "    .dataframe thead th {\n",
              "        text-align: right;\n",
              "    }\n",
              "</style>\n",
              "<table border=\"1\" class=\"dataframe\">\n",
              "  <thead>\n",
              "    <tr style=\"text-align: right;\">\n",
              "      <th></th>\n",
              "      <th>HeartDisease</th>\n",
              "      <th>BMI</th>\n",
              "      <th>Smoking</th>\n",
              "      <th>AlcoholDrinking</th>\n",
              "      <th>Stroke</th>\n",
              "      <th>PhysicalHealth</th>\n",
              "      <th>MentalHealth</th>\n",
              "      <th>DiffWalking</th>\n",
              "      <th>Sex</th>\n",
              "      <th>AgeCategory</th>\n",
              "      <th>Race</th>\n",
              "      <th>Diabetic</th>\n",
              "      <th>PhysicalActivity</th>\n",
              "      <th>GenHealth</th>\n",
              "      <th>SleepTime</th>\n",
              "      <th>Asthma</th>\n",
              "      <th>KidneyDisease</th>\n",
              "      <th>SkinCancer</th>\n",
              "    </tr>\n",
              "  </thead>\n",
              "  <tbody>\n",
              "    <tr>\n",
              "      <th>0</th>\n",
              "      <td>0</td>\n",
              "      <td>16.60</td>\n",
              "      <td>1</td>\n",
              "      <td>0</td>\n",
              "      <td>0</td>\n",
              "      <td>3</td>\n",
              "      <td>30</td>\n",
              "      <td>0</td>\n",
              "      <td>0</td>\n",
              "      <td>55-59</td>\n",
              "      <td>White</td>\n",
              "      <td>1</td>\n",
              "      <td>2</td>\n",
              "      <td>Very good</td>\n",
              "      <td>5</td>\n",
              "      <td>1</td>\n",
              "      <td>0</td>\n",
              "      <td>1</td>\n",
              "    </tr>\n",
              "    <tr>\n",
              "      <th>1</th>\n",
              "      <td>0</td>\n",
              "      <td>20.34</td>\n",
              "      <td>0</td>\n",
              "      <td>0</td>\n",
              "      <td>1</td>\n",
              "      <td>0</td>\n",
              "      <td>0</td>\n",
              "      <td>0</td>\n",
              "      <td>0</td>\n",
              "      <td>80 or older</td>\n",
              "      <td>White</td>\n",
              "      <td>0</td>\n",
              "      <td>2</td>\n",
              "      <td>Very good</td>\n",
              "      <td>7</td>\n",
              "      <td>0</td>\n",
              "      <td>0</td>\n",
              "      <td>0</td>\n",
              "    </tr>\n",
              "    <tr>\n",
              "      <th>2</th>\n",
              "      <td>0</td>\n",
              "      <td>26.58</td>\n",
              "      <td>1</td>\n",
              "      <td>0</td>\n",
              "      <td>0</td>\n",
              "      <td>20</td>\n",
              "      <td>30</td>\n",
              "      <td>0</td>\n",
              "      <td>1</td>\n",
              "      <td>65-69</td>\n",
              "      <td>White</td>\n",
              "      <td>1</td>\n",
              "      <td>2</td>\n",
              "      <td>Fair</td>\n",
              "      <td>8</td>\n",
              "      <td>1</td>\n",
              "      <td>0</td>\n",
              "      <td>0</td>\n",
              "    </tr>\n",
              "    <tr>\n",
              "      <th>3</th>\n",
              "      <td>0</td>\n",
              "      <td>24.21</td>\n",
              "      <td>0</td>\n",
              "      <td>0</td>\n",
              "      <td>0</td>\n",
              "      <td>0</td>\n",
              "      <td>0</td>\n",
              "      <td>0</td>\n",
              "      <td>0</td>\n",
              "      <td>75-79</td>\n",
              "      <td>White</td>\n",
              "      <td>0</td>\n",
              "      <td>1</td>\n",
              "      <td>Good</td>\n",
              "      <td>6</td>\n",
              "      <td>0</td>\n",
              "      <td>0</td>\n",
              "      <td>1</td>\n",
              "    </tr>\n",
              "    <tr>\n",
              "      <th>4</th>\n",
              "      <td>0</td>\n",
              "      <td>23.71</td>\n",
              "      <td>0</td>\n",
              "      <td>0</td>\n",
              "      <td>0</td>\n",
              "      <td>28</td>\n",
              "      <td>0</td>\n",
              "      <td>1</td>\n",
              "      <td>0</td>\n",
              "      <td>40-44</td>\n",
              "      <td>White</td>\n",
              "      <td>0</td>\n",
              "      <td>2</td>\n",
              "      <td>Very good</td>\n",
              "      <td>8</td>\n",
              "      <td>0</td>\n",
              "      <td>0</td>\n",
              "      <td>0</td>\n",
              "    </tr>\n",
              "  </tbody>\n",
              "</table>\n",
              "</div>\n",
              "      <button class=\"colab-df-convert\" onclick=\"convertToInteractive('df-eb7a6e21-7000-4ccc-9977-fead6b7e25bd')\"\n",
              "              title=\"Convert this dataframe to an interactive table.\"\n",
              "              style=\"display:none;\">\n",
              "        \n",
              "  <svg xmlns=\"http://www.w3.org/2000/svg\" height=\"24px\"viewBox=\"0 0 24 24\"\n",
              "       width=\"24px\">\n",
              "    <path d=\"M0 0h24v24H0V0z\" fill=\"none\"/>\n",
              "    <path d=\"M18.56 5.44l.94 2.06.94-2.06 2.06-.94-2.06-.94-.94-2.06-.94 2.06-2.06.94zm-11 1L8.5 8.5l.94-2.06 2.06-.94-2.06-.94L8.5 2.5l-.94 2.06-2.06.94zm10 10l.94 2.06.94-2.06 2.06-.94-2.06-.94-.94-2.06-.94 2.06-2.06.94z\"/><path d=\"M17.41 7.96l-1.37-1.37c-.4-.4-.92-.59-1.43-.59-.52 0-1.04.2-1.43.59L10.3 9.45l-7.72 7.72c-.78.78-.78 2.05 0 2.83L4 21.41c.39.39.9.59 1.41.59.51 0 1.02-.2 1.41-.59l7.78-7.78 2.81-2.81c.8-.78.8-2.07 0-2.86zM5.41 20L4 18.59l7.72-7.72 1.47 1.35L5.41 20z\"/>\n",
              "  </svg>\n",
              "      </button>\n",
              "      \n",
              "  <style>\n",
              "    .colab-df-container {\n",
              "      display:flex;\n",
              "      flex-wrap:wrap;\n",
              "      gap: 12px;\n",
              "    }\n",
              "\n",
              "    .colab-df-convert {\n",
              "      background-color: #E8F0FE;\n",
              "      border: none;\n",
              "      border-radius: 50%;\n",
              "      cursor: pointer;\n",
              "      display: none;\n",
              "      fill: #1967D2;\n",
              "      height: 32px;\n",
              "      padding: 0 0 0 0;\n",
              "      width: 32px;\n",
              "    }\n",
              "\n",
              "    .colab-df-convert:hover {\n",
              "      background-color: #E2EBFA;\n",
              "      box-shadow: 0px 1px 2px rgba(60, 64, 67, 0.3), 0px 1px 3px 1px rgba(60, 64, 67, 0.15);\n",
              "      fill: #174EA6;\n",
              "    }\n",
              "\n",
              "    [theme=dark] .colab-df-convert {\n",
              "      background-color: #3B4455;\n",
              "      fill: #D2E3FC;\n",
              "    }\n",
              "\n",
              "    [theme=dark] .colab-df-convert:hover {\n",
              "      background-color: #434B5C;\n",
              "      box-shadow: 0px 1px 3px 1px rgba(0, 0, 0, 0.15);\n",
              "      filter: drop-shadow(0px 1px 2px rgba(0, 0, 0, 0.3));\n",
              "      fill: #FFFFFF;\n",
              "    }\n",
              "  </style>\n",
              "\n",
              "      <script>\n",
              "        const buttonEl =\n",
              "          document.querySelector('#df-eb7a6e21-7000-4ccc-9977-fead6b7e25bd button.colab-df-convert');\n",
              "        buttonEl.style.display =\n",
              "          google.colab.kernel.accessAllowed ? 'block' : 'none';\n",
              "\n",
              "        async function convertToInteractive(key) {\n",
              "          const element = document.querySelector('#df-eb7a6e21-7000-4ccc-9977-fead6b7e25bd');\n",
              "          const dataTable =\n",
              "            await google.colab.kernel.invokeFunction('convertToInteractive',\n",
              "                                                     [key], {});\n",
              "          if (!dataTable) return;\n",
              "\n",
              "          const docLinkHtml = 'Like what you see? Visit the ' +\n",
              "            '<a target=\"_blank\" href=https://colab.research.google.com/notebooks/data_table.ipynb>data table notebook</a>'\n",
              "            + ' to learn more about interactive tables.';\n",
              "          element.innerHTML = '';\n",
              "          dataTable['output_type'] = 'display_data';\n",
              "          await google.colab.output.renderOutput(dataTable, element);\n",
              "          const docLink = document.createElement('div');\n",
              "          docLink.innerHTML = docLinkHtml;\n",
              "          element.appendChild(docLink);\n",
              "        }\n",
              "      </script>\n",
              "    </div>\n",
              "  </div>\n",
              "  "
            ]
          },
          "metadata": {},
          "execution_count": 69
        }
      ]
    },
    {
      "cell_type": "code",
      "source": [
        "df.info()"
      ],
      "metadata": {
        "colab": {
          "base_uri": "https://localhost:8080/"
        },
        "id": "WIGxqwtUYM8_",
        "outputId": "11104115-eb71-4f1d-f628-50c2088e87f8"
      },
      "execution_count": 70,
      "outputs": [
        {
          "output_type": "stream",
          "name": "stdout",
          "text": [
            "<class 'pandas.core.frame.DataFrame'>\n",
            "RangeIndex: 319795 entries, 0 to 319794\n",
            "Data columns (total 18 columns):\n",
            " #   Column            Non-Null Count   Dtype  \n",
            "---  ------            --------------   -----  \n",
            " 0   HeartDisease      319795 non-null  int64  \n",
            " 1   BMI               319795 non-null  float64\n",
            " 2   Smoking           319795 non-null  int64  \n",
            " 3   AlcoholDrinking   319795 non-null  int64  \n",
            " 4   Stroke            319795 non-null  int64  \n",
            " 5   PhysicalHealth    319795 non-null  int64  \n",
            " 6   MentalHealth      319795 non-null  int64  \n",
            " 7   DiffWalking       319795 non-null  int64  \n",
            " 8   Sex               319795 non-null  int64  \n",
            " 9   AgeCategory       319795 non-null  object \n",
            " 10  Race              319795 non-null  object \n",
            " 11  Diabetic          319795 non-null  int64  \n",
            " 12  PhysicalActivity  319795 non-null  int64  \n",
            " 13  GenHealth         319795 non-null  object \n",
            " 14  SleepTime         319795 non-null  int64  \n",
            " 15  Asthma            319795 non-null  int64  \n",
            " 16  KidneyDisease     319795 non-null  int64  \n",
            " 17  SkinCancer        319795 non-null  int64  \n",
            "dtypes: float64(1), int64(14), object(3)\n",
            "memory usage: 43.9+ MB\n"
          ]
        }
      ]
    },
    {
      "cell_type": "code",
      "source": [
        "df.corr()"
      ],
      "metadata": {
        "colab": {
          "base_uri": "https://localhost:8080/",
          "height": 520
        },
        "id": "n2UM8D_WYRlP",
        "outputId": "8ee2a585-8aca-41ed-b646-10602835ee2e"
      },
      "execution_count": 71,
      "outputs": [
        {
          "output_type": "execute_result",
          "data": {
            "text/plain": [
              "                  HeartDisease       BMI   Smoking  AlcoholDrinking    Stroke  \\\n",
              "HeartDisease          1.000000  0.051803  0.107764        -0.032080  0.196835   \n",
              "BMI                   0.051803  1.000000  0.023118        -0.038816  0.019733   \n",
              "Smoking               0.107764  0.023118  1.000000         0.111768  0.061226   \n",
              "AlcoholDrinking      -0.032080 -0.038816  0.111768         1.000000 -0.019858   \n",
              "Stroke                0.196835  0.019733  0.061226        -0.019858  1.000000   \n",
              "PhysicalHealth        0.170721  0.109788  0.115352        -0.017254  0.137014   \n",
              "MentalHealth          0.028591  0.064131  0.085157         0.051282  0.046467   \n",
              "DiffWalking           0.201258  0.181678  0.120074        -0.035328  0.174143   \n",
              "Sex                   0.070040  0.026940  0.085052         0.004200 -0.003091   \n",
              "Diabetic              0.183072  0.203494  0.058434        -0.058208  0.108407   \n",
              "PhysicalActivity     -0.100030 -0.150616 -0.097174         0.017487 -0.079455   \n",
              "SleepTime             0.008327 -0.051822 -0.030336        -0.005065  0.011900   \n",
              "Asthma                0.041444  0.092345  0.024149        -0.002202  0.038866   \n",
              "KidneyDisease         0.145197  0.050768  0.034920        -0.028280  0.091167   \n",
              "SkinCancer            0.093317 -0.033644  0.033977        -0.005702  0.048116   \n",
              "\n",
              "                  PhysicalHealth  MentalHealth  DiffWalking       Sex  \\\n",
              "HeartDisease            0.170721      0.028591     0.201258  0.070040   \n",
              "BMI                     0.109788      0.064131     0.181678  0.026940   \n",
              "Smoking                 0.115352      0.085157     0.120074  0.085052   \n",
              "AlcoholDrinking        -0.017254      0.051282    -0.035328  0.004200   \n",
              "Stroke                  0.137014      0.046467     0.174143 -0.003091   \n",
              "PhysicalHealth          1.000000      0.287987     0.428373 -0.040904   \n",
              "MentalHealth            0.287987      1.000000     0.152235 -0.100058   \n",
              "DiffWalking             0.428373      0.152235     1.000000 -0.068860   \n",
              "Sex                    -0.040904     -0.100058    -0.068860  1.000000   \n",
              "Diabetic                0.158207      0.025480     0.216605  0.020718   \n",
              "PhysicalActivity       -0.232283     -0.095808    -0.278524  0.048247   \n",
              "SleepTime              -0.061387     -0.119717    -0.022216 -0.015704   \n",
              "Asthma                  0.117907      0.114008     0.103222 -0.069191   \n",
              "KidneyDisease           0.142197      0.037281     0.153064 -0.009084   \n",
              "SkinCancer              0.041700     -0.033412     0.064840  0.013434   \n",
              "\n",
              "                  Diabetic  PhysicalActivity  SleepTime    Asthma  \\\n",
              "HeartDisease      0.183072         -0.100030   0.008327  0.041444   \n",
              "BMI               0.203494         -0.150616  -0.051822  0.092345   \n",
              "Smoking           0.058434         -0.097174  -0.030336  0.024149   \n",
              "AlcoholDrinking  -0.058208          0.017487  -0.005065 -0.002202   \n",
              "Stroke            0.108407         -0.079455   0.011900  0.038866   \n",
              "PhysicalHealth    0.158207         -0.232283  -0.061387  0.117907   \n",
              "MentalHealth      0.025480         -0.095808  -0.119717  0.114008   \n",
              "DiffWalking       0.216605         -0.278524  -0.022216  0.103222   \n",
              "Sex               0.020718          0.048247  -0.015704 -0.069191   \n",
              "Diabetic          1.000000         -0.140571   0.006658  0.044565   \n",
              "PhysicalActivity -0.140571          1.000000   0.003849 -0.041526   \n",
              "SleepTime         0.006658          0.003849   1.000000 -0.048245   \n",
              "Asthma            0.044565         -0.041526  -0.048245  1.000000   \n",
              "KidneyDisease     0.154268         -0.081827   0.006238  0.039707   \n",
              "SkinCancer        0.037663         -0.001328   0.041266 -0.000396   \n",
              "\n",
              "                  KidneyDisease  SkinCancer  \n",
              "HeartDisease           0.145197    0.093317  \n",
              "BMI                    0.050768   -0.033644  \n",
              "Smoking                0.034920    0.033977  \n",
              "AlcoholDrinking       -0.028280   -0.005702  \n",
              "Stroke                 0.091167    0.048116  \n",
              "PhysicalHealth         0.142197    0.041700  \n",
              "MentalHealth           0.037281   -0.033412  \n",
              "DiffWalking            0.153064    0.064840  \n",
              "Sex                   -0.009084    0.013434  \n",
              "Diabetic               0.154268    0.037663  \n",
              "PhysicalActivity      -0.081827   -0.001328  \n",
              "SleepTime              0.006238    0.041266  \n",
              "Asthma                 0.039707   -0.000396  \n",
              "KidneyDisease          1.000000    0.061816  \n",
              "SkinCancer             0.061816    1.000000  "
            ],
            "text/html": [
              "\n",
              "  <div id=\"df-f408b199-991a-44af-8df4-366cadd762e5\">\n",
              "    <div class=\"colab-df-container\">\n",
              "      <div>\n",
              "<style scoped>\n",
              "    .dataframe tbody tr th:only-of-type {\n",
              "        vertical-align: middle;\n",
              "    }\n",
              "\n",
              "    .dataframe tbody tr th {\n",
              "        vertical-align: top;\n",
              "    }\n",
              "\n",
              "    .dataframe thead th {\n",
              "        text-align: right;\n",
              "    }\n",
              "</style>\n",
              "<table border=\"1\" class=\"dataframe\">\n",
              "  <thead>\n",
              "    <tr style=\"text-align: right;\">\n",
              "      <th></th>\n",
              "      <th>HeartDisease</th>\n",
              "      <th>BMI</th>\n",
              "      <th>Smoking</th>\n",
              "      <th>AlcoholDrinking</th>\n",
              "      <th>Stroke</th>\n",
              "      <th>PhysicalHealth</th>\n",
              "      <th>MentalHealth</th>\n",
              "      <th>DiffWalking</th>\n",
              "      <th>Sex</th>\n",
              "      <th>Diabetic</th>\n",
              "      <th>PhysicalActivity</th>\n",
              "      <th>SleepTime</th>\n",
              "      <th>Asthma</th>\n",
              "      <th>KidneyDisease</th>\n",
              "      <th>SkinCancer</th>\n",
              "    </tr>\n",
              "  </thead>\n",
              "  <tbody>\n",
              "    <tr>\n",
              "      <th>HeartDisease</th>\n",
              "      <td>1.000000</td>\n",
              "      <td>0.051803</td>\n",
              "      <td>0.107764</td>\n",
              "      <td>-0.032080</td>\n",
              "      <td>0.196835</td>\n",
              "      <td>0.170721</td>\n",
              "      <td>0.028591</td>\n",
              "      <td>0.201258</td>\n",
              "      <td>0.070040</td>\n",
              "      <td>0.183072</td>\n",
              "      <td>-0.100030</td>\n",
              "      <td>0.008327</td>\n",
              "      <td>0.041444</td>\n",
              "      <td>0.145197</td>\n",
              "      <td>0.093317</td>\n",
              "    </tr>\n",
              "    <tr>\n",
              "      <th>BMI</th>\n",
              "      <td>0.051803</td>\n",
              "      <td>1.000000</td>\n",
              "      <td>0.023118</td>\n",
              "      <td>-0.038816</td>\n",
              "      <td>0.019733</td>\n",
              "      <td>0.109788</td>\n",
              "      <td>0.064131</td>\n",
              "      <td>0.181678</td>\n",
              "      <td>0.026940</td>\n",
              "      <td>0.203494</td>\n",
              "      <td>-0.150616</td>\n",
              "      <td>-0.051822</td>\n",
              "      <td>0.092345</td>\n",
              "      <td>0.050768</td>\n",
              "      <td>-0.033644</td>\n",
              "    </tr>\n",
              "    <tr>\n",
              "      <th>Smoking</th>\n",
              "      <td>0.107764</td>\n",
              "      <td>0.023118</td>\n",
              "      <td>1.000000</td>\n",
              "      <td>0.111768</td>\n",
              "      <td>0.061226</td>\n",
              "      <td>0.115352</td>\n",
              "      <td>0.085157</td>\n",
              "      <td>0.120074</td>\n",
              "      <td>0.085052</td>\n",
              "      <td>0.058434</td>\n",
              "      <td>-0.097174</td>\n",
              "      <td>-0.030336</td>\n",
              "      <td>0.024149</td>\n",
              "      <td>0.034920</td>\n",
              "      <td>0.033977</td>\n",
              "    </tr>\n",
              "    <tr>\n",
              "      <th>AlcoholDrinking</th>\n",
              "      <td>-0.032080</td>\n",
              "      <td>-0.038816</td>\n",
              "      <td>0.111768</td>\n",
              "      <td>1.000000</td>\n",
              "      <td>-0.019858</td>\n",
              "      <td>-0.017254</td>\n",
              "      <td>0.051282</td>\n",
              "      <td>-0.035328</td>\n",
              "      <td>0.004200</td>\n",
              "      <td>-0.058208</td>\n",
              "      <td>0.017487</td>\n",
              "      <td>-0.005065</td>\n",
              "      <td>-0.002202</td>\n",
              "      <td>-0.028280</td>\n",
              "      <td>-0.005702</td>\n",
              "    </tr>\n",
              "    <tr>\n",
              "      <th>Stroke</th>\n",
              "      <td>0.196835</td>\n",
              "      <td>0.019733</td>\n",
              "      <td>0.061226</td>\n",
              "      <td>-0.019858</td>\n",
              "      <td>1.000000</td>\n",
              "      <td>0.137014</td>\n",
              "      <td>0.046467</td>\n",
              "      <td>0.174143</td>\n",
              "      <td>-0.003091</td>\n",
              "      <td>0.108407</td>\n",
              "      <td>-0.079455</td>\n",
              "      <td>0.011900</td>\n",
              "      <td>0.038866</td>\n",
              "      <td>0.091167</td>\n",
              "      <td>0.048116</td>\n",
              "    </tr>\n",
              "    <tr>\n",
              "      <th>PhysicalHealth</th>\n",
              "      <td>0.170721</td>\n",
              "      <td>0.109788</td>\n",
              "      <td>0.115352</td>\n",
              "      <td>-0.017254</td>\n",
              "      <td>0.137014</td>\n",
              "      <td>1.000000</td>\n",
              "      <td>0.287987</td>\n",
              "      <td>0.428373</td>\n",
              "      <td>-0.040904</td>\n",
              "      <td>0.158207</td>\n",
              "      <td>-0.232283</td>\n",
              "      <td>-0.061387</td>\n",
              "      <td>0.117907</td>\n",
              "      <td>0.142197</td>\n",
              "      <td>0.041700</td>\n",
              "    </tr>\n",
              "    <tr>\n",
              "      <th>MentalHealth</th>\n",
              "      <td>0.028591</td>\n",
              "      <td>0.064131</td>\n",
              "      <td>0.085157</td>\n",
              "      <td>0.051282</td>\n",
              "      <td>0.046467</td>\n",
              "      <td>0.287987</td>\n",
              "      <td>1.000000</td>\n",
              "      <td>0.152235</td>\n",
              "      <td>-0.100058</td>\n",
              "      <td>0.025480</td>\n",
              "      <td>-0.095808</td>\n",
              "      <td>-0.119717</td>\n",
              "      <td>0.114008</td>\n",
              "      <td>0.037281</td>\n",
              "      <td>-0.033412</td>\n",
              "    </tr>\n",
              "    <tr>\n",
              "      <th>DiffWalking</th>\n",
              "      <td>0.201258</td>\n",
              "      <td>0.181678</td>\n",
              "      <td>0.120074</td>\n",
              "      <td>-0.035328</td>\n",
              "      <td>0.174143</td>\n",
              "      <td>0.428373</td>\n",
              "      <td>0.152235</td>\n",
              "      <td>1.000000</td>\n",
              "      <td>-0.068860</td>\n",
              "      <td>0.216605</td>\n",
              "      <td>-0.278524</td>\n",
              "      <td>-0.022216</td>\n",
              "      <td>0.103222</td>\n",
              "      <td>0.153064</td>\n",
              "      <td>0.064840</td>\n",
              "    </tr>\n",
              "    <tr>\n",
              "      <th>Sex</th>\n",
              "      <td>0.070040</td>\n",
              "      <td>0.026940</td>\n",
              "      <td>0.085052</td>\n",
              "      <td>0.004200</td>\n",
              "      <td>-0.003091</td>\n",
              "      <td>-0.040904</td>\n",
              "      <td>-0.100058</td>\n",
              "      <td>-0.068860</td>\n",
              "      <td>1.000000</td>\n",
              "      <td>0.020718</td>\n",
              "      <td>0.048247</td>\n",
              "      <td>-0.015704</td>\n",
              "      <td>-0.069191</td>\n",
              "      <td>-0.009084</td>\n",
              "      <td>0.013434</td>\n",
              "    </tr>\n",
              "    <tr>\n",
              "      <th>Diabetic</th>\n",
              "      <td>0.183072</td>\n",
              "      <td>0.203494</td>\n",
              "      <td>0.058434</td>\n",
              "      <td>-0.058208</td>\n",
              "      <td>0.108407</td>\n",
              "      <td>0.158207</td>\n",
              "      <td>0.025480</td>\n",
              "      <td>0.216605</td>\n",
              "      <td>0.020718</td>\n",
              "      <td>1.000000</td>\n",
              "      <td>-0.140571</td>\n",
              "      <td>0.006658</td>\n",
              "      <td>0.044565</td>\n",
              "      <td>0.154268</td>\n",
              "      <td>0.037663</td>\n",
              "    </tr>\n",
              "    <tr>\n",
              "      <th>PhysicalActivity</th>\n",
              "      <td>-0.100030</td>\n",
              "      <td>-0.150616</td>\n",
              "      <td>-0.097174</td>\n",
              "      <td>0.017487</td>\n",
              "      <td>-0.079455</td>\n",
              "      <td>-0.232283</td>\n",
              "      <td>-0.095808</td>\n",
              "      <td>-0.278524</td>\n",
              "      <td>0.048247</td>\n",
              "      <td>-0.140571</td>\n",
              "      <td>1.000000</td>\n",
              "      <td>0.003849</td>\n",
              "      <td>-0.041526</td>\n",
              "      <td>-0.081827</td>\n",
              "      <td>-0.001328</td>\n",
              "    </tr>\n",
              "    <tr>\n",
              "      <th>SleepTime</th>\n",
              "      <td>0.008327</td>\n",
              "      <td>-0.051822</td>\n",
              "      <td>-0.030336</td>\n",
              "      <td>-0.005065</td>\n",
              "      <td>0.011900</td>\n",
              "      <td>-0.061387</td>\n",
              "      <td>-0.119717</td>\n",
              "      <td>-0.022216</td>\n",
              "      <td>-0.015704</td>\n",
              "      <td>0.006658</td>\n",
              "      <td>0.003849</td>\n",
              "      <td>1.000000</td>\n",
              "      <td>-0.048245</td>\n",
              "      <td>0.006238</td>\n",
              "      <td>0.041266</td>\n",
              "    </tr>\n",
              "    <tr>\n",
              "      <th>Asthma</th>\n",
              "      <td>0.041444</td>\n",
              "      <td>0.092345</td>\n",
              "      <td>0.024149</td>\n",
              "      <td>-0.002202</td>\n",
              "      <td>0.038866</td>\n",
              "      <td>0.117907</td>\n",
              "      <td>0.114008</td>\n",
              "      <td>0.103222</td>\n",
              "      <td>-0.069191</td>\n",
              "      <td>0.044565</td>\n",
              "      <td>-0.041526</td>\n",
              "      <td>-0.048245</td>\n",
              "      <td>1.000000</td>\n",
              "      <td>0.039707</td>\n",
              "      <td>-0.000396</td>\n",
              "    </tr>\n",
              "    <tr>\n",
              "      <th>KidneyDisease</th>\n",
              "      <td>0.145197</td>\n",
              "      <td>0.050768</td>\n",
              "      <td>0.034920</td>\n",
              "      <td>-0.028280</td>\n",
              "      <td>0.091167</td>\n",
              "      <td>0.142197</td>\n",
              "      <td>0.037281</td>\n",
              "      <td>0.153064</td>\n",
              "      <td>-0.009084</td>\n",
              "      <td>0.154268</td>\n",
              "      <td>-0.081827</td>\n",
              "      <td>0.006238</td>\n",
              "      <td>0.039707</td>\n",
              "      <td>1.000000</td>\n",
              "      <td>0.061816</td>\n",
              "    </tr>\n",
              "    <tr>\n",
              "      <th>SkinCancer</th>\n",
              "      <td>0.093317</td>\n",
              "      <td>-0.033644</td>\n",
              "      <td>0.033977</td>\n",
              "      <td>-0.005702</td>\n",
              "      <td>0.048116</td>\n",
              "      <td>0.041700</td>\n",
              "      <td>-0.033412</td>\n",
              "      <td>0.064840</td>\n",
              "      <td>0.013434</td>\n",
              "      <td>0.037663</td>\n",
              "      <td>-0.001328</td>\n",
              "      <td>0.041266</td>\n",
              "      <td>-0.000396</td>\n",
              "      <td>0.061816</td>\n",
              "      <td>1.000000</td>\n",
              "    </tr>\n",
              "  </tbody>\n",
              "</table>\n",
              "</div>\n",
              "      <button class=\"colab-df-convert\" onclick=\"convertToInteractive('df-f408b199-991a-44af-8df4-366cadd762e5')\"\n",
              "              title=\"Convert this dataframe to an interactive table.\"\n",
              "              style=\"display:none;\">\n",
              "        \n",
              "  <svg xmlns=\"http://www.w3.org/2000/svg\" height=\"24px\"viewBox=\"0 0 24 24\"\n",
              "       width=\"24px\">\n",
              "    <path d=\"M0 0h24v24H0V0z\" fill=\"none\"/>\n",
              "    <path d=\"M18.56 5.44l.94 2.06.94-2.06 2.06-.94-2.06-.94-.94-2.06-.94 2.06-2.06.94zm-11 1L8.5 8.5l.94-2.06 2.06-.94-2.06-.94L8.5 2.5l-.94 2.06-2.06.94zm10 10l.94 2.06.94-2.06 2.06-.94-2.06-.94-.94-2.06-.94 2.06-2.06.94z\"/><path d=\"M17.41 7.96l-1.37-1.37c-.4-.4-.92-.59-1.43-.59-.52 0-1.04.2-1.43.59L10.3 9.45l-7.72 7.72c-.78.78-.78 2.05 0 2.83L4 21.41c.39.39.9.59 1.41.59.51 0 1.02-.2 1.41-.59l7.78-7.78 2.81-2.81c.8-.78.8-2.07 0-2.86zM5.41 20L4 18.59l7.72-7.72 1.47 1.35L5.41 20z\"/>\n",
              "  </svg>\n",
              "      </button>\n",
              "      \n",
              "  <style>\n",
              "    .colab-df-container {\n",
              "      display:flex;\n",
              "      flex-wrap:wrap;\n",
              "      gap: 12px;\n",
              "    }\n",
              "\n",
              "    .colab-df-convert {\n",
              "      background-color: #E8F0FE;\n",
              "      border: none;\n",
              "      border-radius: 50%;\n",
              "      cursor: pointer;\n",
              "      display: none;\n",
              "      fill: #1967D2;\n",
              "      height: 32px;\n",
              "      padding: 0 0 0 0;\n",
              "      width: 32px;\n",
              "    }\n",
              "\n",
              "    .colab-df-convert:hover {\n",
              "      background-color: #E2EBFA;\n",
              "      box-shadow: 0px 1px 2px rgba(60, 64, 67, 0.3), 0px 1px 3px 1px rgba(60, 64, 67, 0.15);\n",
              "      fill: #174EA6;\n",
              "    }\n",
              "\n",
              "    [theme=dark] .colab-df-convert {\n",
              "      background-color: #3B4455;\n",
              "      fill: #D2E3FC;\n",
              "    }\n",
              "\n",
              "    [theme=dark] .colab-df-convert:hover {\n",
              "      background-color: #434B5C;\n",
              "      box-shadow: 0px 1px 3px 1px rgba(0, 0, 0, 0.15);\n",
              "      filter: drop-shadow(0px 1px 2px rgba(0, 0, 0, 0.3));\n",
              "      fill: #FFFFFF;\n",
              "    }\n",
              "  </style>\n",
              "\n",
              "      <script>\n",
              "        const buttonEl =\n",
              "          document.querySelector('#df-f408b199-991a-44af-8df4-366cadd762e5 button.colab-df-convert');\n",
              "        buttonEl.style.display =\n",
              "          google.colab.kernel.accessAllowed ? 'block' : 'none';\n",
              "\n",
              "        async function convertToInteractive(key) {\n",
              "          const element = document.querySelector('#df-f408b199-991a-44af-8df4-366cadd762e5');\n",
              "          const dataTable =\n",
              "            await google.colab.kernel.invokeFunction('convertToInteractive',\n",
              "                                                     [key], {});\n",
              "          if (!dataTable) return;\n",
              "\n",
              "          const docLinkHtml = 'Like what you see? Visit the ' +\n",
              "            '<a target=\"_blank\" href=https://colab.research.google.com/notebooks/data_table.ipynb>data table notebook</a>'\n",
              "            + ' to learn more about interactive tables.';\n",
              "          element.innerHTML = '';\n",
              "          dataTable['output_type'] = 'display_data';\n",
              "          await google.colab.output.renderOutput(dataTable, element);\n",
              "          const docLink = document.createElement('div');\n",
              "          docLink.innerHTML = docLinkHtml;\n",
              "          element.appendChild(docLink);\n",
              "        }\n",
              "      </script>\n",
              "    </div>\n",
              "  </div>\n",
              "  "
            ]
          },
          "metadata": {},
          "execution_count": 71
        }
      ]
    },
    {
      "cell_type": "code",
      "source": [
        "df.isna().sum()"
      ],
      "metadata": {
        "colab": {
          "base_uri": "https://localhost:8080/"
        },
        "id": "AaHbmrOdYRpW",
        "outputId": "0f66bd19-22aa-4e7d-e61b-65aa31133228"
      },
      "execution_count": 72,
      "outputs": [
        {
          "output_type": "execute_result",
          "data": {
            "text/plain": [
              "HeartDisease        0\n",
              "BMI                 0\n",
              "Smoking             0\n",
              "AlcoholDrinking     0\n",
              "Stroke              0\n",
              "PhysicalHealth      0\n",
              "MentalHealth        0\n",
              "DiffWalking         0\n",
              "Sex                 0\n",
              "AgeCategory         0\n",
              "Race                0\n",
              "Diabetic            0\n",
              "PhysicalActivity    0\n",
              "GenHealth           0\n",
              "SleepTime           0\n",
              "Asthma              0\n",
              "KidneyDisease       0\n",
              "SkinCancer          0\n",
              "dtype: int64"
            ]
          },
          "metadata": {},
          "execution_count": 72
        }
      ]
    },
    {
      "cell_type": "code",
      "source": [
        "# Try update random_state to 35 - raise it up.  Gaming the random state JUST to get better learning curve not ALWAYS best method\n",
        "X_train_pre, X_test_pre, y_train, y_test = train_test_split(\n",
        "    df.drop(columns=['HeartDisease']), \n",
        "    df.HeartDisease, \n",
        "    test_size=0.2, \n",
        "    random_state=32 ,\n",
        ")\n",
        "X_train_pre.shape,X_test_pre.shape,y_train.shape, y_test.shape "
      ],
      "metadata": {
        "colab": {
          "base_uri": "https://localhost:8080/"
        },
        "id": "NZZlEjCXYRrL",
        "outputId": "add30465-79f9-4a5c-aa07-9cc72cbd4a32"
      },
      "execution_count": 86,
      "outputs": [
        {
          "output_type": "execute_result",
          "data": {
            "text/plain": [
              "((255836, 17), (63959, 17), (255836,), (63959,))"
            ]
          },
          "metadata": {},
          "execution_count": 86
        }
      ]
    },
    {
      "cell_type": "code",
      "source": [
        "#no categorical attributes for this data set (nice to have in case data changes)\n",
        "cat_attribs = ['Race']\n",
        "#pass_attribs = ['occupation']   #Treat occupution as a category even though it is numeric.  We will just pass it through so occupation categories remain un-scaled\n",
        "\n",
        "ord_attribs = ['AgeCategory', 'GenHealth']\n",
        "age_ord = ['18-24','25-29','30-34','35-39', '40-44', '45-49', '50-54', '55-59', '60-64', '65-69', '70-74', '75-79','80 or older']\n",
        "health_ord = ['Poor', 'Fair', 'Good', 'Very good', 'Excellent'];\n",
        "\n",
        "all_cat=cat_attribs+ord_attribs\n",
        "num_attribs = list( X_train_pre.drop(columns=all_cat) )\n",
        "\n",
        "num_pipeline = Pipeline( [\n",
        "    ('imputer', SimpleImputer(strategy=\"median\")), #We have some missing values so this will imputate them\n",
        "    ('minmax_scaler', MinMaxScaler()) #,   ('log', PowerTransformer()) \n",
        "])\n",
        "\n",
        "ord_pipeline = Pipeline( [\n",
        "     ('imputer', SimpleImputer(strategy=\"most_frequent\")), #We have some missing values so this will imputate them\n",
        "     ('ord',OrdinalEncoder(categories=[age_ord, health_ord]))\n",
        "])\n",
        "\n",
        "#define the pipeline process for the data set\n",
        "full_pipeline = ColumnTransformer( [\n",
        "    ('num', num_pipeline, num_attribs),\n",
        "    ('cat', OneHotEncoder(sparse=False), cat_attribs),\n",
        "    ('ordcat', ord_pipeline, ord_attribs)\n",
        "])"
      ],
      "metadata": {
        "id": "5gQUMc81YRtD"
      },
      "execution_count": 87,
      "outputs": []
    },
    {
      "cell_type": "code",
      "source": [
        "cat_encoder = full_pipeline.named_transformers_[\"cat\"]\n",
        "cat_one_hot_attribs = []\n",
        "if hasattr(cat_encoder, 'categories_'):\n",
        "    for i in cat_encoder.categories_:\n",
        "        cat_one_hot_attribs += list(i)\n",
        "        \n",
        "#combines the numeric and encoded features\n",
        "attributes = list(num_attribs) + list(cat_one_hot_attribs) + list(ord_attribs)\n",
        "\n",
        "#display the attributes\n",
        "attributes"
      ],
      "metadata": {
        "colab": {
          "base_uri": "https://localhost:8080/"
        },
        "id": "zBUSrd9cwkNL",
        "outputId": "a6852d49-7273-4d6e-ef76-e2e432195c34"
      },
      "execution_count": 112,
      "outputs": [
        {
          "output_type": "execute_result",
          "data": {
            "text/plain": [
              "['BMI',\n",
              " 'Smoking',\n",
              " 'AlcoholDrinking',\n",
              " 'Stroke',\n",
              " 'PhysicalHealth',\n",
              " 'MentalHealth',\n",
              " 'DiffWalking',\n",
              " 'Sex',\n",
              " 'Diabetic',\n",
              " 'PhysicalActivity',\n",
              " 'SleepTime',\n",
              " 'Asthma',\n",
              " 'KidneyDisease',\n",
              " 'SkinCancer',\n",
              " 'American Indian/Alaskan Native',\n",
              " 'Asian',\n",
              " 'Black',\n",
              " 'Hispanic',\n",
              " 'Other',\n",
              " 'White',\n",
              " 'AgeCategory',\n",
              " 'GenHealth']"
            ]
          },
          "metadata": {},
          "execution_count": 112
        }
      ]
    },
    {
      "cell_type": "code",
      "source": [
        "X_train = full_pipeline.fit_transform( X_train_pre)\n",
        "X_train.shape, y_train.shape, y_test.shape"
      ],
      "metadata": {
        "colab": {
          "base_uri": "https://localhost:8080/"
        },
        "id": "YBS8fF73W5d_",
        "outputId": "70f4af63-167d-460b-dde2-f0066db1b3f0"
      },
      "execution_count": 89,
      "outputs": [
        {
          "output_type": "execute_result",
          "data": {
            "text/plain": [
              "((255836, 22), (255836,), (63959,))"
            ]
          },
          "metadata": {},
          "execution_count": 89
        }
      ]
    },
    {
      "cell_type": "code",
      "source": [
        "#create an array of prepared data based on the test data set\n",
        "X_test = full_pipeline.transform( X_test_pre)\n",
        "X_test.shape"
      ],
      "metadata": {
        "colab": {
          "base_uri": "https://localhost:8080/"
        },
        "id": "M1-hobJTjqEl",
        "outputId": "eea2f640-eabe-4090-aed4-92dd31a3c6df"
      },
      "execution_count": 90,
      "outputs": [
        {
          "output_type": "execute_result",
          "data": {
            "text/plain": [
              "(63959, 22)"
            ]
          },
          "metadata": {},
          "execution_count": 90
        }
      ]
    },
    {
      "cell_type": "code",
      "source": [
        "yscaler = MinMaxScaler()\n",
        "y_train = yscaler.fit_transform(np.array(y_train).reshape(-1,1))\n",
        "y_test = yscaler.transform(np.array(y_test).reshape(-1,1))"
      ],
      "metadata": {
        "id": "DUt_ptiUjrqs"
      },
      "execution_count": 91,
      "outputs": []
    },
    {
      "cell_type": "markdown",
      "source": [
        "Naive Logistic Regression"
      ],
      "metadata": {
        "id": "xei1EPLEn769"
      }
    },
    {
      "cell_type": "code",
      "source": [
        "#create a linear regression model\n",
        "# Set class weight\n",
        "log_reg=LogisticRegression(C=2)      #regularization is defined by 1/C so a lower C value, a higher level of regularization\n",
        "\n",
        "#fit the model to the training data set\n",
        "log_reg.fit( X_train, y_train)\n",
        "\n",
        "#calculated the accuracy (i.e. predicted vs. actual for the training data set)\n",
        "acc = log_reg.score(X_train, y_train)\n",
        "print('Accuracy: {:.2f}%'.format(acc*100))"
      ],
      "metadata": {
        "colab": {
          "base_uri": "https://localhost:8080/"
        },
        "id": "ZKvqsWcrn_Zl",
        "outputId": "20e8d10a-8336-4e0d-81de-009b2ecaa09f"
      },
      "execution_count": 92,
      "outputs": [
        {
          "output_type": "stream",
          "name": "stderr",
          "text": [
            "/usr/local/lib/python3.8/dist-packages/sklearn/utils/validation.py:993: DataConversionWarning: A column-vector y was passed when a 1d array was expected. Please change the shape of y to (n_samples, ), for example using ravel().\n",
            "  y = column_or_1d(y, warn=True)\n"
          ]
        },
        {
          "output_type": "stream",
          "name": "stdout",
          "text": [
            "Accuracy: 91.60%\n"
          ]
        }
      ]
    },
    {
      "cell_type": "code",
      "source": [
        "y_predict = log_reg.predict(X_test)"
      ],
      "metadata": {
        "id": "-Sxq1ACRJN0K"
      },
      "execution_count": 93,
      "outputs": []
    },
    {
      "cell_type": "markdown",
      "source": [
        "Updated scoring method using confusion matrix"
      ],
      "metadata": {
        "id": "z499RNbwJSBH"
      }
    },
    {
      "cell_type": "code",
      "source": [
        "from sklearn.metrics import confusion_matrix, ConfusionMatrixDisplay\n",
        "\n",
        "cm = confusion_matrix(y_predict, y_test)\n",
        "disp = ConfusionMatrixDisplay(confusion_matrix=cm)\n",
        "disp.plot()\n",
        "plt.show()"
      ],
      "metadata": {
        "id": "XdfsB3jTJNHD",
        "colab": {
          "base_uri": "https://localhost:8080/",
          "height": 279
        },
        "outputId": "818a4c84-75f7-45da-9cd4-58b2c625c758"
      },
      "execution_count": 94,
      "outputs": [
        {
          "output_type": "display_data",
          "data": {
            "text/plain": [
              "<Figure size 432x288 with 2 Axes>"
            ],
            "image/png": "[encoded data removed]"
          },
          "metadata": {
            "needs_background": "light"
          }
        }
      ]
    },
    {
      "cell_type": "markdown",
      "source": [
        "Find best threshold by plotting RoC curve"
      ],
      "metadata": {
        "id": "Z4j-6EJ1ebsc"
      }
    },
    {
      "cell_type": "code",
      "source": [
        "import matplotlib.pyplot as plt\n",
        "from sklearn.metrics import roc_curve, auc\n",
        "\n",
        "ns_probs = [0] * len(y_test)\n",
        "lr_probs = log_reg.predict_proba(X_test)[:, 1]\n",
        "\n",
        "ns_auc = roc_auc_score(y_test, ns_probs)\n",
        "lr_auc = roc_auc_score(y_test, lr_probs)\n",
        "\n",
        "ns_fpr, ns_tpr, _ = roc_curve(y_test, ns_probs)\n",
        "lr_fpr, lr_tpr, _ = roc_curve(y_test, lr_probs)\n",
        "\n",
        "plt.plot(ns_fpr, ns_tpr, linestyle='--')\n",
        "plt.plot(lr_fpr, lr_tpr, marker='.',)\n",
        "\n",
        "plt.xlabel('False Positive Rate')\n",
        "plt.ylabel('True Positive Rate')\n",
        "plt.title(\"ROC Curve\")\n",
        "plt.show()"
      ],
      "metadata": {
        "id": "nBOiI6UoeOFv",
        "colab": {
          "base_uri": "https://localhost:8080/",
          "height": 295
        },
        "outputId": "9c333472-89c5-4f83-d9b6-91e0d15e7911"
      },
      "execution_count": 95,
      "outputs": [
        {
          "output_type": "display_data",
          "data": {
            "text/plain": [
              "<Figure size 432x288 with 1 Axes>"
            ],
            "image/png": "[encoded data removed]"
          },
          "metadata": {
            "needs_background": "light"
          }
        }
      ]
    },
    {
      "cell_type": "markdown",
      "source": [
        "Adjust threshold"
      ],
      "metadata": {
        "id": "TGUzSDldelLr"
      }
    },
    {
      "cell_type": "code",
      "source": [
        "pred_proba_df = log_reg.predict_proba(X_test)[:, 1]\n",
        "y_predict = np.array([1 if x > 0.844 else 0 for x in pred_proba_df])\n",
        "\n",
        "cm = confusion_matrix(y_predict, y_test)\n",
        "disp = ConfusionMatrixDisplay(confusion_matrix=cm)\n",
        "disp.plot()\n",
        "plt.show()"
      ],
      "metadata": {
        "id": "JZMyHPHKeXsK",
        "colab": {
          "base_uri": "https://localhost:8080/",
          "height": 279
        },
        "outputId": "4693aa00-869f-49b4-a563-f6456a90c275"
      },
      "execution_count": 96,
      "outputs": [
        {
          "output_type": "display_data",
          "data": {
            "text/plain": [
              "<Figure size 432x288 with 2 Axes>"
            ],
            "image/png": "[encoded data removed]"
          },
          "metadata": {
            "needs_background": "light"
          }
        }
      ]
    },
    {
      "cell_type": "markdown",
      "source": [
        "Logistic Regression with Class Reweighted"
      ],
      "metadata": {
        "id": "4DSNaaDkKTwz"
      }
    },
    {
      "cell_type": "code",
      "source": [
        "log_reg = LogisticRegression(class_weight=\"balanced\")\n",
        "\n",
        "#fit the model to the training data set\n",
        "log_reg.fit( X_train, y_train)\n",
        "\n",
        "#calculated the accuracy (i.e. predicted vs. actual for the training data set)\n",
        "acc = log_reg.score(X_train, y_train)\n",
        "print('Accuracy: {:.2f}%'.format(acc*100))"
      ],
      "metadata": {
        "id": "sQn4hFkgKWlA",
        "colab": {
          "base_uri": "https://localhost:8080/"
        },
        "outputId": "e0d2313b-bc2b-4e9c-a0a7-039b77e7b63b"
      },
      "execution_count": 97,
      "outputs": [
        {
          "output_type": "stream",
          "name": "stderr",
          "text": [
            "/usr/local/lib/python3.8/dist-packages/sklearn/utils/validation.py:993: DataConversionWarning: A column-vector y was passed when a 1d array was expected. Please change the shape of y to (n_samples, ), for example using ravel().\n",
            "  y = column_or_1d(y, warn=True)\n"
          ]
        },
        {
          "output_type": "stream",
          "name": "stdout",
          "text": [
            "Accuracy: 75.08%\n"
          ]
        }
      ]
    },
    {
      "cell_type": "code",
      "source": [
        "y_predict = log_reg.predict(X_test)\n",
        "\n",
        "cm = confusion_matrix(y_predict, y_test)\n",
        "disp = ConfusionMatrixDisplay(confusion_matrix=cm)\n",
        "disp.plot()\n",
        "plt.show()"
      ],
      "metadata": {
        "id": "1SAJOGy9Khpt",
        "colab": {
          "base_uri": "https://localhost:8080/",
          "height": 279
        },
        "outputId": "1851308c-fc71-451e-9112-d85ce783835d"
      },
      "execution_count": 98,
      "outputs": [
        {
          "output_type": "display_data",
          "data": {
            "text/plain": [
              "<Figure size 432x288 with 2 Axes>"
            ],
            "image/png": "[encoded data removed]"
          },
          "metadata": {
            "needs_background": "light"
          }
        }
      ]
    },
    {
      "cell_type": "markdown",
      "source": [
        "Oversample to adjust dataset for label unbalanced problem"
      ],
      "metadata": {
        "id": "KcADYwJZhE5b"
      }
    },
    {
      "cell_type": "code",
      "source": [
        "from imblearn.over_sampling import RandomOverSampler\n",
        "oversample = RandomOverSampler(sampling_strategy='minority')\n",
        "X_over, y_over = oversample.fit_resample(X_train, y_train)"
      ],
      "metadata": {
        "id": "8fw2fBzGhFO3"
      },
      "execution_count": 99,
      "outputs": []
    },
    {
      "cell_type": "markdown",
      "source": [
        "Create a Baseline Prediction"
      ],
      "metadata": {
        "id": "0cqL3iphW6Sk"
      }
    },
    {
      "cell_type": "code",
      "source": [
        "baseline_prediction = yscaler.inverse_transform( y_test.mean().reshape(-1,1)) \n",
        "\n",
        "#populate an array with the baseline prediction value\n",
        "predictions = np.full(shape=y_test.shape[0], fill_value = baseline_prediction)\n",
        "\n",
        "#unscale predicted values\n",
        "actual= yscaler.inverse_transform( y_test )\n",
        "\n",
        "#calculate the root mean square error between the prediction and the actual\n",
        "naive = mean_squared_error(predictions, actual, squared=False)\n",
        "print( 'Naive ERROR: {:,.5f}'.format(naive) )"
      ],
      "metadata": {
        "colab": {
          "base_uri": "https://localhost:8080/"
        },
        "id": "86KA2PUVjvRv",
        "outputId": "c69fb183-b378-44f5-cb78-ddd3587691ad"
      },
      "execution_count": 100,
      "outputs": [
        {
          "output_type": "stream",
          "name": "stdout",
          "text": [
            "Naive ERROR: 0.28047\n"
          ]
        }
      ]
    },
    {
      "cell_type": "markdown",
      "source": [
        "Build the Neural Network, Compile & Train"
      ],
      "metadata": {
        "id": "N71hO1Kyj0Ak"
      }
    },
    {
      "cell_type": "code",
      "source": [
        "def plot_learning_curve( history ):\n",
        "    pd.DataFrame(history.history).plot(figsize=(8, 5))\n",
        "    plt.grid(True)\n",
        "    ymin, ymax = [], []\n",
        "    for x in history.history.keys():\n",
        "        ymax.append( max(history.history[x]))\n",
        "        ymin.append( min(history.history[x]))\n",
        "    plt.gca().set_ylim(min(ymin)*.95, max(ymax)*1.05)\n",
        "    plt.xlabel(\"EPOCHS\")\n",
        "    plt.show()"
      ],
      "metadata": {
        "id": "Gohor7biLT4L"
      },
      "execution_count": 101,
      "outputs": []
    },
    {
      "cell_type": "code",
      "source": [
        "np.random.seed(42)\n",
        "tf.random.set_seed(42)\n",
        "\n",
        "#resets the Keras global state - helps avoid clutter from old models and layers, especially when memory is limited\n",
        "keras.backend.clear_session()"
      ],
      "metadata": {
        "id": "adYrqN3ejzKU"
      },
      "execution_count": null,
      "outputs": []
    },
    {
      "cell_type": "code",
      "source": [
        "early_stopping = keras.callbacks.EarlyStopping(\n",
        "patience = 2,\n",
        "mode='min',\n",
        "monitor='val_loss'\n",
        ")"
      ],
      "metadata": {
        "id": "tP4kax_Cj32u"
      },
      "execution_count": null,
      "outputs": []
    },
    {
      "cell_type": "code",
      "source": [
        "model = keras.models.Sequential([\n",
        "    keras.layers.Flatten(),\n",
        "    keras.layers.Dense(4, activation=\"relu\"),\n",
        "    keras.layers.Dropout(.2),\n",
        "    keras.layers.Dense(2, activation=\"relu\"),\n",
        "    keras.layers.Dense(1)\n",
        "])"
      ],
      "metadata": {
        "id": "YnE2MdF3j4Jl"
      },
      "execution_count": null,
      "outputs": []
    },
    {
      "cell_type": "code",
      "source": [
        "model.compile(loss=\"mean_squared_error\",\n",
        "              optimizer=keras.optimizers.SGD(learning_rate=.0001),\n",
        "             )"
      ],
      "metadata": {
        "id": "FLH9-WPAj4L0"
      },
      "execution_count": null,
      "outputs": []
    },
    {
      "cell_type": "code",
      "source": [
        "history = model.fit(X_train, \n",
        "                    y_train, \n",
        "                    epochs=150, \n",
        "                    validation_split=.2,\n",
        "                    callbacks=[early_stopping]\n",
        "                   )"
      ],
      "metadata": {
        "colab": {
          "base_uri": "https://localhost:8080/"
        },
        "id": "UOL7_Fjbj4N3",
        "outputId": "2d264842-d940-4357-d22a-440500aa2c41"
      },
      "execution_count": null,
      "outputs": [
        {
          "output_type": "stream",
          "name": "stdout",
          "text": [
            "Epoch 1/150\n",
            "6396/6396 [==============================] - 19s 3ms/step - loss: 0.1633 - val_loss: 0.0831\n",
            "Epoch 2/150\n",
            "6396/6396 [==============================] - 17s 3ms/step - loss: 0.0856 - val_loss: 0.0740\n",
            "Epoch 3/150\n",
            "6396/6396 [==============================] - 18s 3ms/step - loss: 0.0781 - val_loss: 0.0708\n",
            "Epoch 4/150\n",
            "6396/6396 [==============================] - 17s 3ms/step - loss: 0.0754 - val_loss: 0.0696\n",
            "Epoch 5/150\n",
            "6396/6396 [==============================] - 17s 3ms/step - loss: 0.0740 - val_loss: 0.0689\n",
            "Epoch 6/150\n",
            "6396/6396 [==============================] - 16s 3ms/step - loss: 0.0732 - val_loss: 0.0687\n",
            "Epoch 7/150\n",
            "6396/6396 [==============================] - 18s 3ms/step - loss: 0.0727 - val_loss: 0.0684\n",
            "Epoch 8/150\n",
            "6396/6396 [==============================] - 17s 3ms/step - loss: 0.0723 - val_loss: 0.0681\n",
            "Epoch 9/150\n",
            "6396/6396 [==============================] - 17s 3ms/step - loss: 0.0720 - val_loss: 0.0680\n",
            "Epoch 10/150\n",
            "6396/6396 [==============================] - 18s 3ms/step - loss: 0.0721 - val_loss: 0.0679\n",
            "Epoch 11/150\n",
            "6396/6396 [==============================] - 29s 4ms/step - loss: 0.0717 - val_loss: 0.0678\n",
            "Epoch 12/150\n",
            "6396/6396 [==============================] - 17s 3ms/step - loss: 0.0717 - val_loss: 0.0677\n",
            "Epoch 13/150\n",
            "6396/6396 [==============================] - 17s 3ms/step - loss: 0.0714 - val_loss: 0.0676\n",
            "Epoch 14/150\n",
            "6396/6396 [==============================] - 17s 3ms/step - loss: 0.0716 - val_loss: 0.0676\n",
            "Epoch 15/150\n",
            "6396/6396 [==============================] - 17s 3ms/step - loss: 0.0713 - val_loss: 0.0675\n",
            "Epoch 16/150\n",
            "6396/6396 [==============================] - 17s 3ms/step - loss: 0.0712 - val_loss: 0.0675\n",
            "Epoch 17/150\n",
            "6396/6396 [==============================] - 20s 3ms/step - loss: 0.0712 - val_loss: 0.0675\n",
            "Epoch 18/150\n",
            "6396/6396 [==============================] - 17s 3ms/step - loss: 0.0712 - val_loss: 0.0674\n",
            "Epoch 19/150\n",
            "6396/6396 [==============================] - 17s 3ms/step - loss: 0.0712 - val_loss: 0.0674\n",
            "Epoch 20/150\n",
            "6396/6396 [==============================] - 16s 3ms/step - loss: 0.0710 - val_loss: 0.0673\n",
            "Epoch 21/150\n",
            "6396/6396 [==============================] - 17s 3ms/step - loss: 0.0709 - val_loss: 0.0673\n",
            "Epoch 22/150\n",
            "6396/6396 [==============================] - 16s 3ms/step - loss: 0.0710 - val_loss: 0.0673\n",
            "Epoch 23/150\n",
            "6396/6396 [==============================] - 18s 3ms/step - loss: 0.0709 - val_loss: 0.0673\n"
          ]
        }
      ]
    },
    {
      "cell_type": "code",
      "source": [
        "model.summary()"
      ],
      "metadata": {
        "colab": {
          "base_uri": "https://localhost:8080/"
        },
        "id": "sxWl5mI9KB2i",
        "outputId": "d5aa32fd-65a1-49a6-f2c9-1f7a074c41f5"
      },
      "execution_count": null,
      "outputs": [
        {
          "output_type": "stream",
          "name": "stdout",
          "text": [
            "Model: \"sequential\"\n",
            "_________________________________________________________________\n",
            " Layer (type)                Output Shape              Param #   \n",
            "=================================================================\n",
            " flatten (Flatten)           (None, 22)                0         \n",
            "                                                                 \n",
            " dense (Dense)               (None, 4)                 92        \n",
            "                                                                 \n",
            " dropout (Dropout)           (None, 4)                 0         \n",
            "                                                                 \n",
            " dense_1 (Dense)             (None, 2)                 10        \n",
            "                                                                 \n",
            " dense_2 (Dense)             (None, 1)                 3         \n",
            "                                                                 \n",
            "=================================================================\n",
            "Total params: 105\n",
            "Trainable params: 105\n",
            "Non-trainable params: 0\n",
            "_________________________________________________________________\n"
          ]
        }
      ]
    },
    {
      "cell_type": "markdown",
      "source": [
        "Evaluate Performance"
      ],
      "metadata": {
        "id": "-vB7-LmEj_ov"
      }
    },
    {
      "cell_type": "code",
      "source": [
        "nn_plot_learning_curve(history)"
      ],
      "metadata": {
        "colab": {
          "base_uri": "https://localhost:8080/",
          "height": 334
        },
        "id": "oOolnGV1j4P1",
        "outputId": "caddeff2-9045-4973-e422-156385dcea5c"
      },
      "execution_count": null,
      "outputs": [
        {
          "output_type": "display_data",
          "data": {
            "text/plain": [
              "<Figure size 576x360 with 1 Axes>"
            ],
            "image/png": "[encoded data removed]"
          },
          "metadata": {
            "needs_background": "light"
          }
        }
      ]
    },
    {
      "cell_type": "code",
      "source": [
        "plot_learning_curve(history)"
      ],
      "metadata": {
        "colab": {
          "base_uri": "https://localhost:8080/",
          "height": 334
        },
        "id": "417wCgdWLmEu",
        "outputId": "23fb8ccf-0626-4f89-aa84-d9003f8fa212"
      },
      "execution_count": null,
      "outputs": [
        {
          "output_type": "display_data",
          "data": {
            "text/plain": [
              "<Figure size 576x360 with 1 Axes>"
            ],
            "image/png": "[encoded data removed]"
          },
          "metadata": {
            "needs_background": "light"
          }
        }
      ]
    },
    {
      "cell_type": "code",
      "source": [
        "model.evaluate(X_train, y_train)"
      ],
      "metadata": {
        "colab": {
          "base_uri": "https://localhost:8080/"
        },
        "id": "zxCWYRStj4Rl",
        "outputId": "3cccbf8c-7e89-4df0-efac-0575a5509c1a"
      },
      "execution_count": null,
      "outputs": [
        {
          "output_type": "stream",
          "name": "stdout",
          "text": [
            "7995/7995 [==============================] - 14s 2ms/step - loss: 0.0688\n"
          ]
        },
        {
          "output_type": "execute_result",
          "data": {
            "text/plain": [
              "0.06876396387815475"
            ]
          },
          "metadata": {},
          "execution_count": 37
        }
      ]
    },
    {
      "cell_type": "code",
      "source": [
        "model.evaluate(X_test, y_test)"
      ],
      "metadata": {
        "colab": {
          "base_uri": "https://localhost:8080/"
        },
        "id": "kx1OFmk7kE97",
        "outputId": "707ff52f-4225-42da-b4e5-b1efd5fdfa7e"
      },
      "execution_count": null,
      "outputs": [
        {
          "output_type": "stream",
          "name": "stdout",
          "text": [
            "1999/1999 [==============================] - 3s 2ms/step - loss: 0.0688\n"
          ]
        },
        {
          "output_type": "execute_result",
          "data": {
            "text/plain": [
              "0.06883466243743896"
            ]
          },
          "metadata": {},
          "execution_count": 38
        }
      ]
    },
    {
      "cell_type": "code",
      "source": [
        "y_pred = model.predict(X_train)\n",
        "\n",
        "#scale predicted and actuals\n",
        "pred = yscaler.inverse_transform( y_pred )\n",
        "actual = yscaler.inverse_transform(y_train)\n",
        "\n",
        "#calculate the Root Mean Squared Error using the scaled values\n",
        "rmse = mean_squared_error(pred,actual,squared=False)\n",
        "print('RMSE: {:,.4f}'.format( rmse ) )"
      ],
      "metadata": {
        "colab": {
          "base_uri": "https://localhost:8080/"
        },
        "id": "-kx4R1E1kFAA",
        "outputId": "439e9b77-098d-4b52-b380-08c45bb65d27"
      },
      "execution_count": null,
      "outputs": [
        {
          "output_type": "stream",
          "name": "stdout",
          "text": [
            "7995/7995 [==============================] - 10s 1ms/step\n",
            "RMSE: 0.2622\n"
          ]
        }
      ]
    },
    {
      "cell_type": "code",
      "source": [
        "y_pred = model.predict(X_test)\n",
        "\n",
        "#scale predicted and actuals\n",
        "pred = yscaler.inverse_transform( y_pred )\n",
        "actual = yscaler.inverse_transform(y_test)\n",
        "\n",
        "#calculate the Root Mean Squared Error using the scaled values\n",
        "rmse = mean_squared_error(pred,actual,squared=False)\n",
        "print('RMSE: {:,.4f}'.format( rmse ) )"
      ],
      "metadata": {
        "colab": {
          "base_uri": "https://localhost:8080/"
        },
        "id": "rQj2yp7xkFCX",
        "outputId": "3f5e5088-4b1b-4f8d-8e72-e820cf73143f"
      },
      "execution_count": null,
      "outputs": [
        {
          "output_type": "stream",
          "name": "stdout",
          "text": [
            "1999/1999 [==============================] - 3s 1ms/step\n",
            "RMSE: 0.2624\n"
          ]
        }
      ]
    },
    {
      "cell_type": "code",
      "source": [
        "nn_cm = confusion_matrix(y_predict, y_test)\n",
        "disp = ConfusionMatrixDisplay(confusion_matrix=nn_cm)\n",
        "disp.plot()\n",
        "plt.show()"
      ],
      "metadata": {
        "colab": {
          "base_uri": "https://localhost:8080/",
          "height": 279
        },
        "id": "qtvaPScctqRo",
        "outputId": "9ac41c1e-9386-44aa-bbee-2f9e93d84c4b"
      },
      "execution_count": null,
      "outputs": [
        {
          "output_type": "display_data",
          "data": {
            "text/plain": [
              "<Figure size 432x288 with 2 Axes>"
            ],
            "image/png": "[encoded data removed]"
          },
          "metadata": {
            "needs_background": "light"
          }
        }
      ]
    },
    {
      "cell_type": "code",
      "source": [
        "pred[0:5], actual[0:5]"
      ],
      "metadata": {
        "colab": {
          "base_uri": "https://localhost:8080/"
        },
        "id": "T-HJLzYMkFEd",
        "outputId": "a37184c0-3d60-4066-c1da-9e1982b449f5"
      },
      "execution_count": null,
      "outputs": [
        {
          "output_type": "execute_result",
          "data": {
            "text/plain": [
              "(array([[0.06129381],\n",
              "        [0.03976327],\n",
              "        [0.03976327],\n",
              "        [0.03976327],\n",
              "        [0.22223392]], dtype=float32), array([[0.],\n",
              "        [1.],\n",
              "        [0.],\n",
              "        [0.],\n",
              "        [0.]]))"
            ]
          },
          "metadata": {},
          "execution_count": 41
        }
      ]
    },
    {
      "cell_type": "code",
      "source": [
        "for x in range(0,20):\n",
        "    print( \"Prediction {:10,.0f}  ---  Actual {:10,.0f}\".format( float(pred[x:x+1]), float(actual[x:x+1]) ) )"
      ],
      "metadata": {
        "colab": {
          "base_uri": "https://localhost:8080/"
        },
        "id": "naz59TeokFF7",
        "outputId": "9de306e5-0876-4142-ecb1-fbebd3c89f9e"
      },
      "execution_count": null,
      "outputs": [
        {
          "output_type": "stream",
          "name": "stdout",
          "text": [
            "Prediction          0  ---  Actual          0\n",
            "Prediction          0  ---  Actual          1\n",
            "Prediction          0  ---  Actual          0\n",
            "Prediction          0  ---  Actual          0\n",
            "Prediction          0  ---  Actual          0\n",
            "Prediction          0  ---  Actual          0\n",
            "Prediction          0  ---  Actual          0\n",
            "Prediction          0  ---  Actual          0\n",
            "Prediction          0  ---  Actual          0\n",
            "Prediction          0  ---  Actual          0\n",
            "Prediction          0  ---  Actual          0\n",
            "Prediction          0  ---  Actual          0\n",
            "Prediction          0  ---  Actual          0\n",
            "Prediction          0  ---  Actual          0\n",
            "Prediction          0  ---  Actual          0\n",
            "Prediction          0  ---  Actual          0\n",
            "Prediction          0  ---  Actual          0\n",
            "Prediction          0  ---  Actual          0\n",
            "Prediction          0  ---  Actual          0\n",
            "Prediction          0  ---  Actual          0\n"
          ]
        }
      ]
    },
    {
      "cell_type": "markdown",
      "source": [
        "Random Forest"
      ],
      "metadata": {
        "id": "_VaOxeD8EXR9"
      }
    },
    {
      "cell_type": "code",
      "source": [
        "model_RandomForest = RandomForestClassifier(criterion='entropy',n_estimators=50)\n",
        "model_RandomForest.fit(X_train,y_train.reshape(-1))\n",
        "y_predict_RF = model_RandomForest.predict(X_test)\n",
        "\n",
        "score = accuracy_score(y_test,y_predict_RF)\n",
        "print('Accuracy: {:.2f}%'.format(score*100))\n",
        "\n",
        "confusion_matrix_RF = confusion_matrix(y_test,y_predict_RF)\n",
        "disp = ConfusionMatrixDisplay(confusion_matrix=cm)\n",
        "disp.plot()\n",
        "plt.show()"
      ],
      "metadata": {
        "colab": {
          "base_uri": "https://localhost:8080/",
          "height": 296
        },
        "id": "KXfn4K5gEblk",
        "outputId": "57d32860-4ff2-4060-fad5-a02840e7f647"
      },
      "execution_count": 102,
      "outputs": [
        {
          "output_type": "stream",
          "name": "stdout",
          "text": [
            "Accuracy: 90.41%\n"
          ]
        },
        {
          "output_type": "display_data",
          "data": {
            "text/plain": [
              "<Figure size 432x288 with 2 Axes>"
            ],
            "image/png": "[encoded data removed]"
          },
          "metadata": {
            "needs_background": "light"
          }
        }
      ]
    },
    {
      "cell_type": "markdown",
      "source": [
        "Random Forest Feature Importance"
      ],
      "metadata": {
        "id": "6fLXlE-EWvxz"
      }
    },
    {
      "cell_type": "code",
      "source": [
        "print(X_train.shape[1])\n",
        "print(X_train[0])\n",
        "feature_importance = model_RandomForest.feature_importances_\n",
        "# print(feature_importance)\n",
        "forest_importances = pd.Series(feature_importance)\n",
        "# print(forest_importances)\n",
        "std = np.std([tree.feature_importances_ for tree in model_RandomForest.estimators_], axis=0)\n",
        "fig, ax = plt.subplots()\n",
        "forest_importances.plot.bar(yerr=std, ax=ax)\n",
        "x = [\"BMI\", \"Smoking\", \"AlcoholDrinking\", \"Stroke\", \"PhysicalHealth\", \"MentalHealth\", \"DiffWalking\", \"Sex\", \"AgeCategory\", \"Other\", \"Asian\", \"White\", \"American Indian/Alaskan Native\", \"Hispanic\", \"Black\", \"Diabetic\", \"PhysicalActivity\", \"GenHealth\", \"SleepTime\", \"Asthma\", \"KidneyDisease\", \"SkinCancer\"]\n",
        "plt.xticks((0, 1, 2, 3, 4, 5, 6, 7, 8, 9, 10, 11, 12, 13, 14, 15, 16, 17, 18, 19, 20, 21), x)\n",
        "# for i in range(len(x)):\n",
        "#   plt.text(i,x[i],std[i])\n",
        "ax.set_title(\"Feature importances using MDI\")\n",
        "ax.set_ylabel(\"Mean decrease in impurity\")\n",
        "fig.tight_layout()"
      ],
      "metadata": {
        "colab": {
          "base_uri": "https://localhost:8080/",
          "height": 393
        },
        "id": "gyLneeI2W0hj",
        "outputId": "85c63f45-dec2-4868-d7ed-9a529b72c0cb"
      },
      "execution_count": 111,
      "outputs": [
        {
          "output_type": "stream",
          "name": "stdout",
          "text": [
            "22\n",
            "[ 0.15657847  0.          0.          1.          0.16666667  0.\n",
            "  1.          1.          0.          0.          0.30434783  0.\n",
            "  0.          1.          0.          0.          0.          0.\n",
            "  0.          1.         12.          2.        ]\n"
          ]
        },
        {
          "output_type": "display_data",
          "data": {
            "text/plain": [
              "<Figure size 432x288 with 1 Axes>"
            ],
            "image/png": "[encoded data removed]"
          },
          "metadata": {
            "needs_background": "light"
          }
        }
      ]
    },
    {
      "cell_type": "code",
      "source": [],
      "metadata": {
        "id": "Z45iiMPDzLXv"
      },
      "execution_count": null,
      "outputs": []
    }
  ]
}